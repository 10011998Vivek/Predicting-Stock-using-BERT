{
  "cells": [
    {
      "cell_type": "code",
      "execution_count": 1,
      "metadata": {
        "colab": {
          "base_uri": "https://localhost:8080/"
        },
        "id": "pB0YbhPGpWui",
        "outputId": "9d220569-6351-4156-89d8-36fbf8deedc2"
      },
      "outputs": [
        {
          "output_type": "stream",
          "name": "stdout",
          "text": [
            "Looking in indexes: https://pypi.org/simple, https://us-python.pkg.dev/colab-wheels/public/simple/\n",
            "Collecting autocorrect\n",
            "  Downloading autocorrect-2.6.1.tar.gz (622 kB)\n",
            "\u001b[2K     \u001b[90m━━━━━━━━━━━━━━━━━━━━━━━━━━━━━━━━━━━━━━\u001b[0m \u001b[32m622.8/622.8 kB\u001b[0m \u001b[31m14.9 MB/s\u001b[0m eta \u001b[36m0:00:00\u001b[0m\n",
            "\u001b[?25h  Preparing metadata (setup.py) ... \u001b[?25l\u001b[?25hdone\n",
            "Building wheels for collected packages: autocorrect\n",
            "  Building wheel for autocorrect (setup.py) ... \u001b[?25l\u001b[?25hdone\n",
            "  Created wheel for autocorrect: filename=autocorrect-2.6.1-py3-none-any.whl size=622380 sha256=347dd0bb760d66ec93db8ba838632433019f68560cc390f8a5af66685f653f42\n",
            "  Stored in directory: /root/.cache/pip/wheels/b5/7b/6d/b76b29ce11ff8e2521c8c7dd0e5bfee4fb1789d76193124343\n",
            "Successfully built autocorrect\n",
            "Installing collected packages: autocorrect\n",
            "Successfully installed autocorrect-2.6.1\n",
            "Looking in indexes: https://pypi.org/simple, https://us-python.pkg.dev/colab-wheels/public/simple/\n",
            "Collecting symspellpy\n",
            "  Downloading symspellpy-6.7.7-py3-none-any.whl (2.6 MB)\n",
            "\u001b[2K     \u001b[90m━━━━━━━━━━━━━━━━━━━━━━━━━━━━━━━━━━━━━━━━\u001b[0m \u001b[32m2.6/2.6 MB\u001b[0m \u001b[31m36.0 MB/s\u001b[0m eta \u001b[36m0:00:00\u001b[0m\n",
            "\u001b[?25hCollecting jamo\n",
            "  Downloading jamo-0.4.1-py3-none-any.whl (9.5 kB)\n",
            "Collecting hangul_utils\n",
            "  Downloading hangul_utils-0.4.5-py3-none-any.whl (20 kB)\n",
            "Collecting editdistpy>=0.1.3\n",
            "  Downloading editdistpy-0.1.3.tar.gz (57 kB)\n",
            "\u001b[2K     \u001b[90m━━━━━━━━━━━━━━━━━━━━━━━━━━━━━━━━━━━━━━━━\u001b[0m \u001b[32m57.2/57.2 kB\u001b[0m \u001b[31m6.5 MB/s\u001b[0m eta \u001b[36m0:00:00\u001b[0m\n",
            "\u001b[?25h  Installing build dependencies ... \u001b[?25l\u001b[?25hdone\n",
            "  Getting requirements to build wheel ... \u001b[?25l\u001b[?25hdone\n",
            "  Preparing metadata (pyproject.toml) ... \u001b[?25l\u001b[?25hdone\n",
            "Requirement already satisfied: tqdm in /usr/local/lib/python3.10/dist-packages (from hangul_utils) (4.65.0)\n",
            "Collecting jpype1-py3\n",
            "  Downloading JPype1-py3-0.5.5.4.tar.gz (88 kB)\n",
            "\u001b[2K     \u001b[90m━━━━━━━━━━━━━━━━━━━━━━━━━━━━━━━━━━━━━━━━\u001b[0m \u001b[32m88.4/88.4 kB\u001b[0m \u001b[31m11.2 MB/s\u001b[0m eta \u001b[36m0:00:00\u001b[0m\n",
            "\u001b[?25h  Preparing metadata (setup.py) ... \u001b[?25l\u001b[?25hdone\n",
            "Collecting hangul_utils\n",
            "  Downloading hangul_utils-0.4.4-py3-none-any.whl (20 kB)\n",
            "  Downloading hangul_utils-0.4.3-py3-none-any.whl (20 kB)\n",
            "Collecting map-async>=1.2.1\n",
            "  Downloading map_async-1.2.3-py3-none-any.whl (3.6 kB)\n",
            "Collecting hangul_utils\n",
            "  Downloading hangul_utils-0.4.2-py3-none-any.whl (20 kB)\n",
            "  Downloading hangul_utils-0.4.1-py3-none-any.whl (20 kB)\n",
            "  Downloading hangul_utils-0.4-py3-none-any.whl (20 kB)\n",
            "  Downloading hangul-utils-0.3.0.tar.gz (4.3 kB)\n",
            "  \u001b[1;31merror\u001b[0m: \u001b[1msubprocess-exited-with-error\u001b[0m\n",
            "  \n",
            "  \u001b[31m×\u001b[0m \u001b[32mpython setup.py egg_info\u001b[0m did not run successfully.\n",
            "  \u001b[31m│\u001b[0m exit code: \u001b[1;36m1\u001b[0m\n",
            "  \u001b[31m╰─>\u001b[0m See above for output.\n",
            "  \n",
            "  \u001b[1;35mnote\u001b[0m: This error originates from a subprocess, and is likely not a problem with pip.\n",
            "  Preparing metadata (setup.py) ... \u001b[?25l\u001b[?25herror\n",
            "\u001b[1;31merror\u001b[0m: \u001b[1mmetadata-generation-failed\u001b[0m\n",
            "\n",
            "\u001b[31m×\u001b[0m Encountered error while generating package metadata.\n",
            "\u001b[31m╰─>\u001b[0m See above for output.\n",
            "\n",
            "\u001b[1;35mnote\u001b[0m: This is an issue with the package mentioned above, not pip.\n",
            "\u001b[1;36mhint\u001b[0m: See above for details.\n",
            "Looking in indexes: https://pypi.org/simple, https://us-python.pkg.dev/colab-wheels/public/simple/\n",
            "Collecting transformers\n",
            "  Downloading transformers-4.28.1-py3-none-any.whl (7.0 MB)\n",
            "\u001b[2K     \u001b[90m━━━━━━━━━━━━━━━━━━━━━━━━━━━━━━━━━━━━━━━━\u001b[0m \u001b[32m7.0/7.0 MB\u001b[0m \u001b[31m46.0 MB/s\u001b[0m eta \u001b[36m0:00:00\u001b[0m\n",
            "\u001b[?25hCollecting tokenizers!=0.11.3,<0.14,>=0.11.1\n",
            "  Downloading tokenizers-0.13.3-cp310-cp310-manylinux_2_17_x86_64.manylinux2014_x86_64.whl (7.8 MB)\n",
            "\u001b[2K     \u001b[90m━━━━━━━━━━━━━━━━━━━━━━━━━━━━━━━━━━━━━━━━\u001b[0m \u001b[32m7.8/7.8 MB\u001b[0m \u001b[31m92.7 MB/s\u001b[0m eta \u001b[36m0:00:00\u001b[0m\n",
            "\u001b[?25hRequirement already satisfied: numpy>=1.17 in /usr/local/lib/python3.10/dist-packages (from transformers) (1.22.4)\n",
            "Requirement already satisfied: regex!=2019.12.17 in /usr/local/lib/python3.10/dist-packages (from transformers) (2022.10.31)\n",
            "Requirement already satisfied: tqdm>=4.27 in /usr/local/lib/python3.10/dist-packages (from transformers) (4.65.0)\n",
            "Collecting huggingface-hub<1.0,>=0.11.0\n",
            "  Downloading huggingface_hub-0.14.1-py3-none-any.whl (224 kB)\n",
            "\u001b[2K     \u001b[90m━━━━━━━━━━━━━━━━━━━━━━━━━━━━━━━━━━━━━━\u001b[0m \u001b[32m224.5/224.5 kB\u001b[0m \u001b[31m28.6 MB/s\u001b[0m eta \u001b[36m0:00:00\u001b[0m\n",
            "\u001b[?25hRequirement already satisfied: requests in /usr/local/lib/python3.10/dist-packages (from transformers) (2.27.1)\n",
            "Requirement already satisfied: filelock in /usr/local/lib/python3.10/dist-packages (from transformers) (3.12.0)\n",
            "Requirement already satisfied: packaging>=20.0 in /usr/local/lib/python3.10/dist-packages (from transformers) (23.1)\n",
            "Requirement already satisfied: pyyaml>=5.1 in /usr/local/lib/python3.10/dist-packages (from transformers) (6.0)\n",
            "Requirement already satisfied: typing-extensions>=3.7.4.3 in /usr/local/lib/python3.10/dist-packages (from huggingface-hub<1.0,>=0.11.0->transformers) (4.5.0)\n",
            "Requirement already satisfied: fsspec in /usr/local/lib/python3.10/dist-packages (from huggingface-hub<1.0,>=0.11.0->transformers) (2023.4.0)\n",
            "Requirement already satisfied: urllib3<1.27,>=1.21.1 in /usr/local/lib/python3.10/dist-packages (from requests->transformers) (1.26.15)\n",
            "Requirement already satisfied: charset-normalizer~=2.0.0 in /usr/local/lib/python3.10/dist-packages (from requests->transformers) (2.0.12)\n",
            "Requirement already satisfied: certifi>=2017.4.17 in /usr/local/lib/python3.10/dist-packages (from requests->transformers) (2022.12.7)\n",
            "Requirement already satisfied: idna<4,>=2.5 in /usr/local/lib/python3.10/dist-packages (from requests->transformers) (3.4)\n",
            "Installing collected packages: tokenizers, huggingface-hub, transformers\n",
            "Successfully installed huggingface-hub-0.14.1 tokenizers-0.13.3 transformers-4.28.1\n",
            "Looking in indexes: https://pypi.org/simple, https://us-python.pkg.dev/colab-wheels/public/simple/\n",
            "Collecting preprocess\n",
            "  Downloading preprocess-2.0.0-py3-none-any.whl (12 kB)\n",
            "Requirement already satisfied: future in /usr/local/lib/python3.10/dist-packages (from preprocess) (0.18.3)\n",
            "Installing collected packages: preprocess\n",
            "Successfully installed preprocess-2.0.0\n",
            "Looking in indexes: https://pypi.org/simple, https://us-python.pkg.dev/colab-wheels/public/simple/\n",
            "Collecting contractions\n",
            "  Downloading contractions-0.1.73-py2.py3-none-any.whl (8.7 kB)\n",
            "Collecting textsearch>=0.0.21\n",
            "  Downloading textsearch-0.0.24-py2.py3-none-any.whl (7.6 kB)\n",
            "Collecting anyascii\n",
            "  Downloading anyascii-0.3.2-py3-none-any.whl (289 kB)\n",
            "\u001b[2K     \u001b[90m━━━━━━━━━━━━━━━━━━━━━━━━━━━━━━━━━━━━━━━\u001b[0m \u001b[32m289.9/289.9 kB\u001b[0m \u001b[31m9.3 MB/s\u001b[0m eta \u001b[36m0:00:00\u001b[0m\n",
            "\u001b[?25hCollecting pyahocorasick\n",
            "  Downloading pyahocorasick-2.0.0-cp310-cp310-manylinux_2_5_x86_64.manylinux1_x86_64.manylinux_2_12_x86_64.manylinux2010_x86_64.whl (110 kB)\n",
            "\u001b[2K     \u001b[90m━━━━━━━━━━━━━━━━━━━━━━━━━━━━━━━━━━━━━━\u001b[0m \u001b[32m110.8/110.8 kB\u001b[0m \u001b[31m15.2 MB/s\u001b[0m eta \u001b[36m0:00:00\u001b[0m\n",
            "\u001b[?25hInstalling collected packages: pyahocorasick, anyascii, textsearch, contractions\n",
            "Successfully installed anyascii-0.3.2 contractions-0.1.73 pyahocorasick-2.0.0 textsearch-0.0.24\n",
            "Looking in indexes: https://pypi.org/simple, https://us-python.pkg.dev/colab-wheels/public/simple/\n",
            "Collecting symspellpy\n",
            "  Using cached symspellpy-6.7.7-py3-none-any.whl (2.6 MB)\n",
            "Collecting editdistpy>=0.1.3\n",
            "  Using cached editdistpy-0.1.3.tar.gz (57 kB)\n",
            "  Installing build dependencies ... \u001b[?25l\u001b[?25hdone\n",
            "  Getting requirements to build wheel ... \u001b[?25l\u001b[?25hdone\n",
            "  Preparing metadata (pyproject.toml) ... \u001b[?25l\u001b[?25hdone\n",
            "Building wheels for collected packages: editdistpy\n",
            "  Building wheel for editdistpy (pyproject.toml) ... \u001b[?25l\u001b[?25hdone\n",
            "  Created wheel for editdistpy: filename=editdistpy-0.1.3-cp310-cp310-linux_x86_64.whl size=141752 sha256=e2cfd763f476c4da3ff43299a2cbf90c3fd33a6a8cf40585f45ea8ebf2cf5f52\n",
            "  Stored in directory: /root/.cache/pip/wheels/88/6a/a6/a1283cc145323a1fb3d475bd158ee60b248ab1985230d266fc\n",
            "Successfully built editdistpy\n",
            "Installing collected packages: editdistpy, symspellpy\n",
            "Successfully installed editdistpy-0.1.3 symspellpy-6.7.7\n"
          ]
        }
      ],
      "source": [
        "!pip install autocorrect\n",
        "!pip install symspellpy jamo hangul_utils\n",
        "!pip install transformers\n",
        "!pip install preprocess\n",
        "!pip install contractions\n",
        "!pip install symspellpy"
      ]
    },
    {
      "cell_type": "code",
      "execution_count": 1,
      "metadata": {
        "id": "RlmTRo4vo5LE"
      },
      "outputs": [],
      "source": []
    },
    {
      "cell_type": "code",
      "execution_count": 1,
      "metadata": {
        "id": "qVQAgDnxo5Oi"
      },
      "outputs": [],
      "source": []
    },
    {
      "cell_type": "code",
      "execution_count": 2,
      "metadata": {
        "colab": {
          "base_uri": "https://localhost:8080/"
        },
        "id": "eo6vxS-epX0W",
        "outputId": "68aafb00-03ba-477b-b53a-3aad83ee1d83"
      },
      "outputs": [
        {
          "output_type": "stream",
          "name": "stderr",
          "text": [
            "[nltk_data] Downloading package stopwords to /root/nltk_data...\n",
            "[nltk_data]   Unzipping corpora/stopwords.zip.\n"
          ]
        }
      ],
      "source": [
        "import pkg_resources\n",
        "from symspellpy import SymSpell, Verbosity\n",
        "import itertools\n",
        "# Importing essential libraries\n",
        "import numpy as np\n",
        "import pandas as pd\n",
        "import seaborn as sns\n",
        "import matplotlib.pyplot as plt\n",
        "from sklearn.cluster import KMeans\n",
        "from tensorflow import keras\n",
        "from tensorflow.keras import layers\n",
        "from sklearn.linear_model import LogisticRegression\n",
        "from sklearn.ensemble import RandomForestClassifier\n",
        "from sklearn.svm import LinearSVC\n",
        "from sklearn.model_selection import cross_val_score\n",
        "from sklearn.naive_bayes import MultinomialNB\n",
        "from xgboost import XGBClassifier\n",
        "from transformers import BertTokenizer, BertModel\n",
        "from transformers import get_linear_schedule_with_warmup\n",
        "import torch\n",
        "import torch.nn as nn\n",
        "from torch.utils.data import TensorDataset, DataLoader, RandomSampler, SequentialSampler\n",
        "from torch.optim import AdamW\n",
        "import pandas as pd\n",
        "import preprocess\n",
        "import numpy as np\n",
        "from sklearn import preprocessing\n",
        "import re\n",
        "import nltk\n",
        "nltk.download('stopwords')\n",
        "from nltk.corpus import stopwords\n",
        "from nltk.stem import PorterStemmer\n",
        "import requests\n",
        "import unicodedata\n",
        "import tqdm\n",
        "import contractions\n",
        "import spacy\n",
        "from spacy.cli import download\n",
        "import sys\n",
        "import gensim\n",
        "from gensim.models.phrases import Phrases, Phraser\n",
        "import multiprocessing\n",
        "from gensim.models import Word2Vec, KeyedVectors\n",
        "import transformers\n",
        "import tensorflow as tf\n",
        "## for deep learning\n",
        "from tensorflow.keras import models, layers, preprocessing as kprocessing\n",
        "from tensorflow.keras import backend as K\n"
      ]
    },
    {
      "cell_type": "code",
      "execution_count": 3,
      "metadata": {
        "id": "F9rKZ3QQuMhW"
      },
      "outputs": [],
      "source": [
        "from autocorrect import Speller\n",
        "spell = Speller(lang='en')"
      ]
    },
    {
      "cell_type": "code",
      "execution_count": 4,
      "metadata": {
        "id": "HRhsh5d_rHcs"
      },
      "outputs": [],
      "source": [
        "sym_spell = SymSpell(max_dictionary_edit_distance=2, prefix_length=7)"
      ]
    },
    {
      "cell_type": "code",
      "execution_count": 5,
      "metadata": {
        "id": "jTe4iuGgrSLe"
      },
      "outputs": [],
      "source": [
        "def correct_spelling_symspell(text):\n",
        "    words = [\n",
        "        sym_spell.lookup(\n",
        "            word, \n",
        "            Verbosity.CLOSEST, \n",
        "            max_edit_distance=2,\n",
        "            include_unknown=True\n",
        "            )[0].term \n",
        "        for word in text.split()] \n",
        "    text = \" \".join(words)\n",
        "    tweet = spell(text)\n",
        "    return tweet"
      ]
    },
    {
      "cell_type": "code",
      "execution_count": 6,
      "metadata": {
        "colab": {
          "base_uri": "https://localhost:8080/"
        },
        "id": "HD1KCfmNrWWS",
        "outputId": "64fdea5d-5191-4e16-9f18-da30cecce4a9"
      },
      "outputs": [
        {
          "output_type": "stream",
          "name": "stderr",
          "text": [
            "[nltk_data] Downloading package punkt to /root/nltk_data...\n",
            "[nltk_data]   Unzipping tokenizers/punkt.zip.\n"
          ]
        },
        {
          "output_type": "execute_result",
          "data": {
            "text/plain": [
              "True"
            ]
          },
          "metadata": {},
          "execution_count": 6
        }
      ],
      "source": [
        "nltk.download('punkt')"
      ]
    },
    {
      "cell_type": "code",
      "execution_count": 7,
      "metadata": {
        "id": "k7IUHM_grnL5"
      },
      "outputs": [],
      "source": [
        "nlp = spacy.load('en_core_web_sm')"
      ]
    },
    {
      "cell_type": "code",
      "execution_count": 8,
      "metadata": {
        "colab": {
          "base_uri": "https://localhost:8080/",
          "height": 750
        },
        "id": "hIlXsVCIrjQ7",
        "outputId": "87d6eb89-2479-44b6-dcc1-3013f04e8d59"
      },
      "outputs": [
        {
          "output_type": "execute_result",
          "data": {
            "text/plain": [
              "         Date  Label                                               Top1  \\\n",
              "0  2008-08-08      0  b\"Georgia 'downs two Russian warplanes' as cou...   \n",
              "1  2008-08-11      1  b'Why wont America and Nato help us? If they w...   \n",
              "2  2008-08-12      0  b'Remember that adorable 9-year-old who sang a...   \n",
              "3  2008-08-13      0  b' U.S. refuses Israel weapons to attack Iran:...   \n",
              "4  2008-08-14      1  b'All the experts admit that we should legalis...   \n",
              "\n",
              "                                                Top2  \\\n",
              "0            b'BREAKING: Musharraf to be impeached.'   \n",
              "1        b'Bush puts foot down on Georgian conflict'   \n",
              "2                 b\"Russia 'ends Georgia operation'\"   \n",
              "3  b\"When the president ordered to attack Tskhinv...   \n",
              "4  b'War in South Osetia - 89 pictures made by a ...   \n",
              "\n",
              "                                                Top3  \\\n",
              "0  b'Russia Today: Columns of troops roll into So...   \n",
              "1  b\"Jewish Georgian minister: Thanks to Israeli ...   \n",
              "2  b'\"If we had no sexual harassment we would hav...   \n",
              "3  b' Israel clears troops who killed Reuters cam...   \n",
              "4  b'Swedish wrestler Ara Abrahamian throws away ...   \n",
              "\n",
              "                                                Top4  \\\n",
              "0  b'Russian tanks are moving towards the capital...   \n",
              "1  b'Georgian army flees in disarray as Russians ...   \n",
              "2  b\"Al-Qa'eda is losing support in Iraq because ...   \n",
              "3  b'Britain\\'s policy of being tough on drugs is...   \n",
              "4  b'Russia exaggerated the death toll in South O...   \n",
              "\n",
              "                                                Top5  \\\n",
              "0  b\"Afghan children raped with 'impunity,' U.N. ...   \n",
              "1      b\"Olympic opening ceremony fireworks 'faked'\"   \n",
              "2  b'Ceasefire in Georgia: Putin Outmaneuvers the...   \n",
              "3  b'Body of 14 year old found in trunk; Latest (...   \n",
              "4  b'Missile That Killed 9 Inside Pakistan May Ha...   \n",
              "\n",
              "                                                Top6  \\\n",
              "0  b'150 Russian tanks have entered South Ossetia...   \n",
              "1  b'What were the Mossad with fraudulent New Zea...   \n",
              "2  b'Why Microsoft and Intel tried to kill the XO...   \n",
              "3  b'China has moved 10 *million* quake survivors...   \n",
              "4  b\"Rushdie Condemns Random House's Refusal to P...   \n",
              "\n",
              "                                                Top7  \\\n",
              "0  b\"Breaking: Georgia invades South Ossetia, Rus...   \n",
              "1  b'Russia angered by Israeli military sale to G...   \n",
              "2  b'Stratfor: The Russo-Georgian War and the Bal...   \n",
              "3  b\"Bush announces Operation Get All Up In Russi...   \n",
              "4  b'Poland and US agree to missle defense deal. ...   \n",
              "\n",
              "                                                Top8  ...  \\\n",
              "0  b\"The 'enemy combatent' trials are nothing but...  ...   \n",
              "1  b'An American citizen living in S.Ossetia blam...  ...   \n",
              "2  b\"I'm Trying to Get a Sense of This Whole Geor...  ...   \n",
              "3             b'Russian forces sink Georgian ships '  ...   \n",
              "4  b'Will the Russians conquer Tblisi? Bet on it,...  ...   \n",
              "\n",
              "                                               Top16  \\\n",
              "0  b'Georgia Invades South Ossetia - if Russia ge...   \n",
              "1  b'Israel and the US behind the Georgian aggres...   \n",
              "2  b'U.S. troops still in Georgia (did you know t...   \n",
              "3                      b'Elephants extinct by 2020?'   \n",
              "4  b'Bank analyst forecast Georgian crisis 2 days...   \n",
              "\n",
              "                                               Top17  \\\n",
              "0                b'Al-Qaeda Faces Islamist Backlash'   \n",
              "1  b'\"Do not believe TV, neither Russian nor Geor...   \n",
              "2       b'Why Russias response to Georgia was right'   \n",
              "3  b'US humanitarian missions soon in Georgia - i...   \n",
              "4  b\"Georgia confict could set back Russia's US r...   \n",
              "\n",
              "                                               Top18  \\\n",
              "0  b'Condoleezza Rice: \"The US would not act to p...   \n",
              "1  b'Riots are still going on in Montreal (Canada...   \n",
              "2  b'Gorbachev accuses U.S. of making a \"serious ...   \n",
              "3             b\"Georgia's DDOS came from US sources\"   \n",
              "4  b'War in the Caucasus is as much the product o...   \n",
              "\n",
              "                                               Top19  \\\n",
              "0  b'This is a busy day:  The European Union has ...   \n",
              "1    b'China to overtake US as largest manufacturer'   \n",
              "2         b'Russia, Georgia, and NATO: Cold War Two'   \n",
              "3  b'Russian convoy heads into Georgia, violating...   \n",
              "4  b'\"Non-media\" photos of South Ossetia/Georgia ...   \n",
              "\n",
              "                                               Top20  \\\n",
              "0  b\"Georgia will withdraw 1,000 soldiers from Ir...   \n",
              "1                     b'War in South Ossetia [PICS]'   \n",
              "2  b'Remember that adorable 62-year-old who led y...   \n",
              "3  b'Israeli defence minister: US against strike ...   \n",
              "4  b'Georgian TV reporter shot by Russian sniper ...   \n",
              "\n",
              "                                               Top21  \\\n",
              "0  b'Why the Pentagon Thinks Attacking Iran is a ...   \n",
              "1  b'Israeli Physicians Group Condemns State Tort...   \n",
              "2          b'War in Georgia: The Israeli connection'   \n",
              "3                     b'Gorbachev: We Had No Choice'   \n",
              "4  b'Saudi Arabia: Mother moves to block child ma...   \n",
              "\n",
              "                                               Top22  \\\n",
              "0  b'Caucasus in crisis: Georgia invades South Os...   \n",
              "1  b' Russia has just beaten the United States ov...   \n",
              "2  b'All signs point to the US encouraging Georgi...   \n",
              "3  b'Witness: Russian forces head towards Tbilisi...   \n",
              "4   b'Taliban wages war on humanitarian aid workers'   \n",
              "\n",
              "                                               Top23  \\\n",
              "0  b'Indian shoe manufactory  - And again in a se...   \n",
              "1  b'Perhaps *the* question about the Georgia - R...   \n",
              "2  b'Christopher King argues that the US and NATO...   \n",
              "3  b' Quarter of Russians blame U.S. for conflict...   \n",
              "4  b'Russia: World  \"can forget about\" Georgia\\'s...   \n",
              "\n",
              "                                               Top24  \\\n",
              "0  b'Visitors Suffering from Mental Illnesses Ban...   \n",
              "1                 b'Russia is so much better at war'   \n",
              "2                        b'America: The New Mexico?'   \n",
              "3  b'Georgian president  says US military will ta...   \n",
              "4  b'Darfur rebels accuse Sudan of mounting major...   \n",
              "\n",
              "                                               Top25  \n",
              "0           b\"No Help for Mexico's Kidnapping Surge\"  \n",
              "1  b\"So this is what it's come to: trading sex fo...  \n",
              "2  b\"BBC NEWS | Asia-Pacific | Extinction 'by man...  \n",
              "3  b'2006: Nobel laureate Aleksander Solzhenitsyn...  \n",
              "4  b'Philippines : Peace Advocate say Muslims nee...  \n",
              "\n",
              "[5 rows x 27 columns]"
            ],
            "text/html": [
              "\n",
              "  <div id=\"df-5738fb47-9947-40e6-8c31-68cc3f16eec6\">\n",
              "    <div class=\"colab-df-container\">\n",
              "      <div>\n",
              "<style scoped>\n",
              "    .dataframe tbody tr th:only-of-type {\n",
              "        vertical-align: middle;\n",
              "    }\n",
              "\n",
              "    .dataframe tbody tr th {\n",
              "        vertical-align: top;\n",
              "    }\n",
              "\n",
              "    .dataframe thead th {\n",
              "        text-align: right;\n",
              "    }\n",
              "</style>\n",
              "<table border=\"1\" class=\"dataframe\">\n",
              "  <thead>\n",
              "    <tr style=\"text-align: right;\">\n",
              "      <th></th>\n",
              "      <th>Date</th>\n",
              "      <th>Label</th>\n",
              "      <th>Top1</th>\n",
              "      <th>Top2</th>\n",
              "      <th>Top3</th>\n",
              "      <th>Top4</th>\n",
              "      <th>Top5</th>\n",
              "      <th>Top6</th>\n",
              "      <th>Top7</th>\n",
              "      <th>Top8</th>\n",
              "      <th>...</th>\n",
              "      <th>Top16</th>\n",
              "      <th>Top17</th>\n",
              "      <th>Top18</th>\n",
              "      <th>Top19</th>\n",
              "      <th>Top20</th>\n",
              "      <th>Top21</th>\n",
              "      <th>Top22</th>\n",
              "      <th>Top23</th>\n",
              "      <th>Top24</th>\n",
              "      <th>Top25</th>\n",
              "    </tr>\n",
              "  </thead>\n",
              "  <tbody>\n",
              "    <tr>\n",
              "      <th>0</th>\n",
              "      <td>2008-08-08</td>\n",
              "      <td>0</td>\n",
              "      <td>b\"Georgia 'downs two Russian warplanes' as cou...</td>\n",
              "      <td>b'BREAKING: Musharraf to be impeached.'</td>\n",
              "      <td>b'Russia Today: Columns of troops roll into So...</td>\n",
              "      <td>b'Russian tanks are moving towards the capital...</td>\n",
              "      <td>b\"Afghan children raped with 'impunity,' U.N. ...</td>\n",
              "      <td>b'150 Russian tanks have entered South Ossetia...</td>\n",
              "      <td>b\"Breaking: Georgia invades South Ossetia, Rus...</td>\n",
              "      <td>b\"The 'enemy combatent' trials are nothing but...</td>\n",
              "      <td>...</td>\n",
              "      <td>b'Georgia Invades South Ossetia - if Russia ge...</td>\n",
              "      <td>b'Al-Qaeda Faces Islamist Backlash'</td>\n",
              "      <td>b'Condoleezza Rice: \"The US would not act to p...</td>\n",
              "      <td>b'This is a busy day:  The European Union has ...</td>\n",
              "      <td>b\"Georgia will withdraw 1,000 soldiers from Ir...</td>\n",
              "      <td>b'Why the Pentagon Thinks Attacking Iran is a ...</td>\n",
              "      <td>b'Caucasus in crisis: Georgia invades South Os...</td>\n",
              "      <td>b'Indian shoe manufactory  - And again in a se...</td>\n",
              "      <td>b'Visitors Suffering from Mental Illnesses Ban...</td>\n",
              "      <td>b\"No Help for Mexico's Kidnapping Surge\"</td>\n",
              "    </tr>\n",
              "    <tr>\n",
              "      <th>1</th>\n",
              "      <td>2008-08-11</td>\n",
              "      <td>1</td>\n",
              "      <td>b'Why wont America and Nato help us? If they w...</td>\n",
              "      <td>b'Bush puts foot down on Georgian conflict'</td>\n",
              "      <td>b\"Jewish Georgian minister: Thanks to Israeli ...</td>\n",
              "      <td>b'Georgian army flees in disarray as Russians ...</td>\n",
              "      <td>b\"Olympic opening ceremony fireworks 'faked'\"</td>\n",
              "      <td>b'What were the Mossad with fraudulent New Zea...</td>\n",
              "      <td>b'Russia angered by Israeli military sale to G...</td>\n",
              "      <td>b'An American citizen living in S.Ossetia blam...</td>\n",
              "      <td>...</td>\n",
              "      <td>b'Israel and the US behind the Georgian aggres...</td>\n",
              "      <td>b'\"Do not believe TV, neither Russian nor Geor...</td>\n",
              "      <td>b'Riots are still going on in Montreal (Canada...</td>\n",
              "      <td>b'China to overtake US as largest manufacturer'</td>\n",
              "      <td>b'War in South Ossetia [PICS]'</td>\n",
              "      <td>b'Israeli Physicians Group Condemns State Tort...</td>\n",
              "      <td>b' Russia has just beaten the United States ov...</td>\n",
              "      <td>b'Perhaps *the* question about the Georgia - R...</td>\n",
              "      <td>b'Russia is so much better at war'</td>\n",
              "      <td>b\"So this is what it's come to: trading sex fo...</td>\n",
              "    </tr>\n",
              "    <tr>\n",
              "      <th>2</th>\n",
              "      <td>2008-08-12</td>\n",
              "      <td>0</td>\n",
              "      <td>b'Remember that adorable 9-year-old who sang a...</td>\n",
              "      <td>b\"Russia 'ends Georgia operation'\"</td>\n",
              "      <td>b'\"If we had no sexual harassment we would hav...</td>\n",
              "      <td>b\"Al-Qa'eda is losing support in Iraq because ...</td>\n",
              "      <td>b'Ceasefire in Georgia: Putin Outmaneuvers the...</td>\n",
              "      <td>b'Why Microsoft and Intel tried to kill the XO...</td>\n",
              "      <td>b'Stratfor: The Russo-Georgian War and the Bal...</td>\n",
              "      <td>b\"I'm Trying to Get a Sense of This Whole Geor...</td>\n",
              "      <td>...</td>\n",
              "      <td>b'U.S. troops still in Georgia (did you know t...</td>\n",
              "      <td>b'Why Russias response to Georgia was right'</td>\n",
              "      <td>b'Gorbachev accuses U.S. of making a \"serious ...</td>\n",
              "      <td>b'Russia, Georgia, and NATO: Cold War Two'</td>\n",
              "      <td>b'Remember that adorable 62-year-old who led y...</td>\n",
              "      <td>b'War in Georgia: The Israeli connection'</td>\n",
              "      <td>b'All signs point to the US encouraging Georgi...</td>\n",
              "      <td>b'Christopher King argues that the US and NATO...</td>\n",
              "      <td>b'America: The New Mexico?'</td>\n",
              "      <td>b\"BBC NEWS | Asia-Pacific | Extinction 'by man...</td>\n",
              "    </tr>\n",
              "    <tr>\n",
              "      <th>3</th>\n",
              "      <td>2008-08-13</td>\n",
              "      <td>0</td>\n",
              "      <td>b' U.S. refuses Israel weapons to attack Iran:...</td>\n",
              "      <td>b\"When the president ordered to attack Tskhinv...</td>\n",
              "      <td>b' Israel clears troops who killed Reuters cam...</td>\n",
              "      <td>b'Britain\\'s policy of being tough on drugs is...</td>\n",
              "      <td>b'Body of 14 year old found in trunk; Latest (...</td>\n",
              "      <td>b'China has moved 10 *million* quake survivors...</td>\n",
              "      <td>b\"Bush announces Operation Get All Up In Russi...</td>\n",
              "      <td>b'Russian forces sink Georgian ships '</td>\n",
              "      <td>...</td>\n",
              "      <td>b'Elephants extinct by 2020?'</td>\n",
              "      <td>b'US humanitarian missions soon in Georgia - i...</td>\n",
              "      <td>b\"Georgia's DDOS came from US sources\"</td>\n",
              "      <td>b'Russian convoy heads into Georgia, violating...</td>\n",
              "      <td>b'Israeli defence minister: US against strike ...</td>\n",
              "      <td>b'Gorbachev: We Had No Choice'</td>\n",
              "      <td>b'Witness: Russian forces head towards Tbilisi...</td>\n",
              "      <td>b' Quarter of Russians blame U.S. for conflict...</td>\n",
              "      <td>b'Georgian president  says US military will ta...</td>\n",
              "      <td>b'2006: Nobel laureate Aleksander Solzhenitsyn...</td>\n",
              "    </tr>\n",
              "    <tr>\n",
              "      <th>4</th>\n",
              "      <td>2008-08-14</td>\n",
              "      <td>1</td>\n",
              "      <td>b'All the experts admit that we should legalis...</td>\n",
              "      <td>b'War in South Osetia - 89 pictures made by a ...</td>\n",
              "      <td>b'Swedish wrestler Ara Abrahamian throws away ...</td>\n",
              "      <td>b'Russia exaggerated the death toll in South O...</td>\n",
              "      <td>b'Missile That Killed 9 Inside Pakistan May Ha...</td>\n",
              "      <td>b\"Rushdie Condemns Random House's Refusal to P...</td>\n",
              "      <td>b'Poland and US agree to missle defense deal. ...</td>\n",
              "      <td>b'Will the Russians conquer Tblisi? Bet on it,...</td>\n",
              "      <td>...</td>\n",
              "      <td>b'Bank analyst forecast Georgian crisis 2 days...</td>\n",
              "      <td>b\"Georgia confict could set back Russia's US r...</td>\n",
              "      <td>b'War in the Caucasus is as much the product o...</td>\n",
              "      <td>b'\"Non-media\" photos of South Ossetia/Georgia ...</td>\n",
              "      <td>b'Georgian TV reporter shot by Russian sniper ...</td>\n",
              "      <td>b'Saudi Arabia: Mother moves to block child ma...</td>\n",
              "      <td>b'Taliban wages war on humanitarian aid workers'</td>\n",
              "      <td>b'Russia: World  \"can forget about\" Georgia\\'s...</td>\n",
              "      <td>b'Darfur rebels accuse Sudan of mounting major...</td>\n",
              "      <td>b'Philippines : Peace Advocate say Muslims nee...</td>\n",
              "    </tr>\n",
              "  </tbody>\n",
              "</table>\n",
              "<p>5 rows × 27 columns</p>\n",
              "</div>\n",
              "      <button class=\"colab-df-convert\" onclick=\"convertToInteractive('df-5738fb47-9947-40e6-8c31-68cc3f16eec6')\"\n",
              "              title=\"Convert this dataframe to an interactive table.\"\n",
              "              style=\"display:none;\">\n",
              "        \n",
              "  <svg xmlns=\"http://www.w3.org/2000/svg\" height=\"24px\"viewBox=\"0 0 24 24\"\n",
              "       width=\"24px\">\n",
              "    <path d=\"M0 0h24v24H0V0z\" fill=\"none\"/>\n",
              "    <path d=\"M18.56 5.44l.94 2.06.94-2.06 2.06-.94-2.06-.94-.94-2.06-.94 2.06-2.06.94zm-11 1L8.5 8.5l.94-2.06 2.06-.94-2.06-.94L8.5 2.5l-.94 2.06-2.06.94zm10 10l.94 2.06.94-2.06 2.06-.94-2.06-.94-.94-2.06-.94 2.06-2.06.94z\"/><path d=\"M17.41 7.96l-1.37-1.37c-.4-.4-.92-.59-1.43-.59-.52 0-1.04.2-1.43.59L10.3 9.45l-7.72 7.72c-.78.78-.78 2.05 0 2.83L4 21.41c.39.39.9.59 1.41.59.51 0 1.02-.2 1.41-.59l7.78-7.78 2.81-2.81c.8-.78.8-2.07 0-2.86zM5.41 20L4 18.59l7.72-7.72 1.47 1.35L5.41 20z\"/>\n",
              "  </svg>\n",
              "      </button>\n",
              "      \n",
              "  <style>\n",
              "    .colab-df-container {\n",
              "      display:flex;\n",
              "      flex-wrap:wrap;\n",
              "      gap: 12px;\n",
              "    }\n",
              "\n",
              "    .colab-df-convert {\n",
              "      background-color: #E8F0FE;\n",
              "      border: none;\n",
              "      border-radius: 50%;\n",
              "      cursor: pointer;\n",
              "      display: none;\n",
              "      fill: #1967D2;\n",
              "      height: 32px;\n",
              "      padding: 0 0 0 0;\n",
              "      width: 32px;\n",
              "    }\n",
              "\n",
              "    .colab-df-convert:hover {\n",
              "      background-color: #E2EBFA;\n",
              "      box-shadow: 0px 1px 2px rgba(60, 64, 67, 0.3), 0px 1px 3px 1px rgba(60, 64, 67, 0.15);\n",
              "      fill: #174EA6;\n",
              "    }\n",
              "\n",
              "    [theme=dark] .colab-df-convert {\n",
              "      background-color: #3B4455;\n",
              "      fill: #D2E3FC;\n",
              "    }\n",
              "\n",
              "    [theme=dark] .colab-df-convert:hover {\n",
              "      background-color: #434B5C;\n",
              "      box-shadow: 0px 1px 3px 1px rgba(0, 0, 0, 0.15);\n",
              "      filter: drop-shadow(0px 1px 2px rgba(0, 0, 0, 0.3));\n",
              "      fill: #FFFFFF;\n",
              "    }\n",
              "  </style>\n",
              "\n",
              "      <script>\n",
              "        const buttonEl =\n",
              "          document.querySelector('#df-5738fb47-9947-40e6-8c31-68cc3f16eec6 button.colab-df-convert');\n",
              "        buttonEl.style.display =\n",
              "          google.colab.kernel.accessAllowed ? 'block' : 'none';\n",
              "\n",
              "        async function convertToInteractive(key) {\n",
              "          const element = document.querySelector('#df-5738fb47-9947-40e6-8c31-68cc3f16eec6');\n",
              "          const dataTable =\n",
              "            await google.colab.kernel.invokeFunction('convertToInteractive',\n",
              "                                                     [key], {});\n",
              "          if (!dataTable) return;\n",
              "\n",
              "          const docLinkHtml = 'Like what you see? Visit the ' +\n",
              "            '<a target=\"_blank\" href=https://colab.research.google.com/notebooks/data_table.ipynb>data table notebook</a>'\n",
              "            + ' to learn more about interactive tables.';\n",
              "          element.innerHTML = '';\n",
              "          dataTable['output_type'] = 'display_data';\n",
              "          await google.colab.output.renderOutput(dataTable, element);\n",
              "          const docLink = document.createElement('div');\n",
              "          docLink.innerHTML = docLinkHtml;\n",
              "          element.appendChild(docLink);\n",
              "        }\n",
              "      </script>\n",
              "    </div>\n",
              "  </div>\n",
              "  "
            ]
          },
          "metadata": {},
          "execution_count": 8
        }
      ],
      "source": [
        "# Loading the dataset\n",
        "df = pd.read_csv('Combined_News_DJIA.csv', encoding = 'ISO-8859-1')\n",
        "df.head(5)"
      ]
    },
    {
      "cell_type": "code",
      "execution_count": 9,
      "metadata": {
        "id": "67nfJCgNrp8y"
      },
      "outputs": [],
      "source": [
        "data_stocks = pd.read_csv(\"upload_DJIA_table.csv\")"
      ]
    },
    {
      "cell_type": "code",
      "execution_count": 10,
      "metadata": {
        "colab": {
          "base_uri": "https://localhost:8080/",
          "height": 455
        },
        "id": "wZecAyiirr61",
        "outputId": "04b6074f-3b9d-4216-966c-f65feb186069"
      },
      "outputs": [
        {
          "output_type": "execute_result",
          "data": {
            "text/plain": [
              "                    Open          High           Low         Close     Volume  \\\n",
              "Date                                                                            \n",
              "2008-08-08  11432.089844  11759.959961  11388.040039  11734.320312  212830000   \n",
              "2008-08-11  11729.669922  11867.110352  11675.530273  11782.349609  183190000   \n",
              "2008-08-12  11781.700195  11782.349609  11601.519531  11642.469727  173590000   \n",
              "2008-08-13  11632.809570  11633.780273  11453.339844  11532.959961  182550000   \n",
              "2008-08-14  11532.070312  11718.280273  11450.889648  11615.929688  159790000   \n",
              "...                  ...           ...           ...           ...        ...   \n",
              "2016-06-27  17355.210938  17355.210938  17063.080078  17140.240234  138740000   \n",
              "2016-06-28  17190.509766  17409.720703  17190.509766  17409.720703  112190000   \n",
              "2016-06-29  17456.019531  17704.509766  17456.019531  17694.679688  106380000   \n",
              "2016-06-30  17712.759766  17930.609375  17711.800781  17929.990234  133030000   \n",
              "2016-07-01  17924.240234  18002.380859  17916.910156  17949.369141   82160000   \n",
              "\n",
              "               Adj Close  \n",
              "Date                      \n",
              "2008-08-08  11734.320312  \n",
              "2008-08-11  11782.349609  \n",
              "2008-08-12  11642.469727  \n",
              "2008-08-13  11532.959961  \n",
              "2008-08-14  11615.929688  \n",
              "...                  ...  \n",
              "2016-06-27  17140.240234  \n",
              "2016-06-28  17409.720703  \n",
              "2016-06-29  17694.679688  \n",
              "2016-06-30  17929.990234  \n",
              "2016-07-01  17949.369141  \n",
              "\n",
              "[1989 rows x 6 columns]"
            ],
            "text/html": [
              "\n",
              "  <div id=\"df-12dba99b-b69d-4b91-87ae-5d526ed5f718\">\n",
              "    <div class=\"colab-df-container\">\n",
              "      <div>\n",
              "<style scoped>\n",
              "    .dataframe tbody tr th:only-of-type {\n",
              "        vertical-align: middle;\n",
              "    }\n",
              "\n",
              "    .dataframe tbody tr th {\n",
              "        vertical-align: top;\n",
              "    }\n",
              "\n",
              "    .dataframe thead th {\n",
              "        text-align: right;\n",
              "    }\n",
              "</style>\n",
              "<table border=\"1\" class=\"dataframe\">\n",
              "  <thead>\n",
              "    <tr style=\"text-align: right;\">\n",
              "      <th></th>\n",
              "      <th>Open</th>\n",
              "      <th>High</th>\n",
              "      <th>Low</th>\n",
              "      <th>Close</th>\n",
              "      <th>Volume</th>\n",
              "      <th>Adj Close</th>\n",
              "    </tr>\n",
              "    <tr>\n",
              "      <th>Date</th>\n",
              "      <th></th>\n",
              "      <th></th>\n",
              "      <th></th>\n",
              "      <th></th>\n",
              "      <th></th>\n",
              "      <th></th>\n",
              "    </tr>\n",
              "  </thead>\n",
              "  <tbody>\n",
              "    <tr>\n",
              "      <th>2008-08-08</th>\n",
              "      <td>11432.089844</td>\n",
              "      <td>11759.959961</td>\n",
              "      <td>11388.040039</td>\n",
              "      <td>11734.320312</td>\n",
              "      <td>212830000</td>\n",
              "      <td>11734.320312</td>\n",
              "    </tr>\n",
              "    <tr>\n",
              "      <th>2008-08-11</th>\n",
              "      <td>11729.669922</td>\n",
              "      <td>11867.110352</td>\n",
              "      <td>11675.530273</td>\n",
              "      <td>11782.349609</td>\n",
              "      <td>183190000</td>\n",
              "      <td>11782.349609</td>\n",
              "    </tr>\n",
              "    <tr>\n",
              "      <th>2008-08-12</th>\n",
              "      <td>11781.700195</td>\n",
              "      <td>11782.349609</td>\n",
              "      <td>11601.519531</td>\n",
              "      <td>11642.469727</td>\n",
              "      <td>173590000</td>\n",
              "      <td>11642.469727</td>\n",
              "    </tr>\n",
              "    <tr>\n",
              "      <th>2008-08-13</th>\n",
              "      <td>11632.809570</td>\n",
              "      <td>11633.780273</td>\n",
              "      <td>11453.339844</td>\n",
              "      <td>11532.959961</td>\n",
              "      <td>182550000</td>\n",
              "      <td>11532.959961</td>\n",
              "    </tr>\n",
              "    <tr>\n",
              "      <th>2008-08-14</th>\n",
              "      <td>11532.070312</td>\n",
              "      <td>11718.280273</td>\n",
              "      <td>11450.889648</td>\n",
              "      <td>11615.929688</td>\n",
              "      <td>159790000</td>\n",
              "      <td>11615.929688</td>\n",
              "    </tr>\n",
              "    <tr>\n",
              "      <th>...</th>\n",
              "      <td>...</td>\n",
              "      <td>...</td>\n",
              "      <td>...</td>\n",
              "      <td>...</td>\n",
              "      <td>...</td>\n",
              "      <td>...</td>\n",
              "    </tr>\n",
              "    <tr>\n",
              "      <th>2016-06-27</th>\n",
              "      <td>17355.210938</td>\n",
              "      <td>17355.210938</td>\n",
              "      <td>17063.080078</td>\n",
              "      <td>17140.240234</td>\n",
              "      <td>138740000</td>\n",
              "      <td>17140.240234</td>\n",
              "    </tr>\n",
              "    <tr>\n",
              "      <th>2016-06-28</th>\n",
              "      <td>17190.509766</td>\n",
              "      <td>17409.720703</td>\n",
              "      <td>17190.509766</td>\n",
              "      <td>17409.720703</td>\n",
              "      <td>112190000</td>\n",
              "      <td>17409.720703</td>\n",
              "    </tr>\n",
              "    <tr>\n",
              "      <th>2016-06-29</th>\n",
              "      <td>17456.019531</td>\n",
              "      <td>17704.509766</td>\n",
              "      <td>17456.019531</td>\n",
              "      <td>17694.679688</td>\n",
              "      <td>106380000</td>\n",
              "      <td>17694.679688</td>\n",
              "    </tr>\n",
              "    <tr>\n",
              "      <th>2016-06-30</th>\n",
              "      <td>17712.759766</td>\n",
              "      <td>17930.609375</td>\n",
              "      <td>17711.800781</td>\n",
              "      <td>17929.990234</td>\n",
              "      <td>133030000</td>\n",
              "      <td>17929.990234</td>\n",
              "    </tr>\n",
              "    <tr>\n",
              "      <th>2016-07-01</th>\n",
              "      <td>17924.240234</td>\n",
              "      <td>18002.380859</td>\n",
              "      <td>17916.910156</td>\n",
              "      <td>17949.369141</td>\n",
              "      <td>82160000</td>\n",
              "      <td>17949.369141</td>\n",
              "    </tr>\n",
              "  </tbody>\n",
              "</table>\n",
              "<p>1989 rows × 6 columns</p>\n",
              "</div>\n",
              "      <button class=\"colab-df-convert\" onclick=\"convertToInteractive('df-12dba99b-b69d-4b91-87ae-5d526ed5f718')\"\n",
              "              title=\"Convert this dataframe to an interactive table.\"\n",
              "              style=\"display:none;\">\n",
              "        \n",
              "  <svg xmlns=\"http://www.w3.org/2000/svg\" height=\"24px\"viewBox=\"0 0 24 24\"\n",
              "       width=\"24px\">\n",
              "    <path d=\"M0 0h24v24H0V0z\" fill=\"none\"/>\n",
              "    <path d=\"M18.56 5.44l.94 2.06.94-2.06 2.06-.94-2.06-.94-.94-2.06-.94 2.06-2.06.94zm-11 1L8.5 8.5l.94-2.06 2.06-.94-2.06-.94L8.5 2.5l-.94 2.06-2.06.94zm10 10l.94 2.06.94-2.06 2.06-.94-2.06-.94-.94-2.06-.94 2.06-2.06.94z\"/><path d=\"M17.41 7.96l-1.37-1.37c-.4-.4-.92-.59-1.43-.59-.52 0-1.04.2-1.43.59L10.3 9.45l-7.72 7.72c-.78.78-.78 2.05 0 2.83L4 21.41c.39.39.9.59 1.41.59.51 0 1.02-.2 1.41-.59l7.78-7.78 2.81-2.81c.8-.78.8-2.07 0-2.86zM5.41 20L4 18.59l7.72-7.72 1.47 1.35L5.41 20z\"/>\n",
              "  </svg>\n",
              "      </button>\n",
              "      \n",
              "  <style>\n",
              "    .colab-df-container {\n",
              "      display:flex;\n",
              "      flex-wrap:wrap;\n",
              "      gap: 12px;\n",
              "    }\n",
              "\n",
              "    .colab-df-convert {\n",
              "      background-color: #E8F0FE;\n",
              "      border: none;\n",
              "      border-radius: 50%;\n",
              "      cursor: pointer;\n",
              "      display: none;\n",
              "      fill: #1967D2;\n",
              "      height: 32px;\n",
              "      padding: 0 0 0 0;\n",
              "      width: 32px;\n",
              "    }\n",
              "\n",
              "    .colab-df-convert:hover {\n",
              "      background-color: #E2EBFA;\n",
              "      box-shadow: 0px 1px 2px rgba(60, 64, 67, 0.3), 0px 1px 3px 1px rgba(60, 64, 67, 0.15);\n",
              "      fill: #174EA6;\n",
              "    }\n",
              "\n",
              "    [theme=dark] .colab-df-convert {\n",
              "      background-color: #3B4455;\n",
              "      fill: #D2E3FC;\n",
              "    }\n",
              "\n",
              "    [theme=dark] .colab-df-convert:hover {\n",
              "      background-color: #434B5C;\n",
              "      box-shadow: 0px 1px 3px 1px rgba(0, 0, 0, 0.15);\n",
              "      filter: drop-shadow(0px 1px 2px rgba(0, 0, 0, 0.3));\n",
              "      fill: #FFFFFF;\n",
              "    }\n",
              "  </style>\n",
              "\n",
              "      <script>\n",
              "        const buttonEl =\n",
              "          document.querySelector('#df-12dba99b-b69d-4b91-87ae-5d526ed5f718 button.colab-df-convert');\n",
              "        buttonEl.style.display =\n",
              "          google.colab.kernel.accessAllowed ? 'block' : 'none';\n",
              "\n",
              "        async function convertToInteractive(key) {\n",
              "          const element = document.querySelector('#df-12dba99b-b69d-4b91-87ae-5d526ed5f718');\n",
              "          const dataTable =\n",
              "            await google.colab.kernel.invokeFunction('convertToInteractive',\n",
              "                                                     [key], {});\n",
              "          if (!dataTable) return;\n",
              "\n",
              "          const docLinkHtml = 'Like what you see? Visit the ' +\n",
              "            '<a target=\"_blank\" href=https://colab.research.google.com/notebooks/data_table.ipynb>data table notebook</a>'\n",
              "            + ' to learn more about interactive tables.';\n",
              "          element.innerHTML = '';\n",
              "          dataTable['output_type'] = 'display_data';\n",
              "          await google.colab.output.renderOutput(dataTable, element);\n",
              "          const docLink = document.createElement('div');\n",
              "          docLink.innerHTML = docLinkHtml;\n",
              "          element.appendChild(docLink);\n",
              "        }\n",
              "      </script>\n",
              "    </div>\n",
              "  </div>\n",
              "  "
            ]
          },
          "metadata": {},
          "execution_count": 10
        }
      ],
      "source": [
        "#df1 = data_stocks.set_index('Date')\n",
        "df1 = data_stocks[::-1]\n",
        "df1 = df1.set_index('Date')\n",
        "df1"
      ]
    },
    {
      "cell_type": "code",
      "execution_count": 11,
      "metadata": {
        "colab": {
          "base_uri": "https://localhost:8080/",
          "height": 549
        },
        "id": "Ozp5tqxmrutt",
        "outputId": "f46a7b04-df97-404d-95fb-8929f37288fb"
      },
      "outputs": [
        {
          "output_type": "execute_result",
          "data": {
            "text/plain": [
              "         Date  Label                                               Top1  \\\n",
              "0  2008-08-08      0  b\"Georgia 'downs two Russian warplanes' as cou...   \n",
              "1  2008-08-11      1  b'Why wont America and Nato help us? If they w...   \n",
              "2  2008-08-12      0  b'Remember that adorable 9-year-old who sang a...   \n",
              "\n",
              "                                          Top2  \\\n",
              "0      b'BREAKING: Musharraf to be impeached.'   \n",
              "1  b'Bush puts foot down on Georgian conflict'   \n",
              "2           b\"Russia 'ends Georgia operation'\"   \n",
              "\n",
              "                                                Top3  \\\n",
              "0  b'Russia Today: Columns of troops roll into So...   \n",
              "1  b\"Jewish Georgian minister: Thanks to Israeli ...   \n",
              "2  b'\"If we had no sexual harassment we would hav...   \n",
              "\n",
              "                                                Top4  \\\n",
              "0  b'Russian tanks are moving towards the capital...   \n",
              "1  b'Georgian army flees in disarray as Russians ...   \n",
              "2  b\"Al-Qa'eda is losing support in Iraq because ...   \n",
              "\n",
              "                                                Top5  \\\n",
              "0  b\"Afghan children raped with 'impunity,' U.N. ...   \n",
              "1      b\"Olympic opening ceremony fireworks 'faked'\"   \n",
              "2  b'Ceasefire in Georgia: Putin Outmaneuvers the...   \n",
              "\n",
              "                                                Top6  \\\n",
              "0  b'150 Russian tanks have entered South Ossetia...   \n",
              "1  b'What were the Mossad with fraudulent New Zea...   \n",
              "2  b'Why Microsoft and Intel tried to kill the XO...   \n",
              "\n",
              "                                                Top7  \\\n",
              "0  b\"Breaking: Georgia invades South Ossetia, Rus...   \n",
              "1  b'Russia angered by Israeli military sale to G...   \n",
              "2  b'Stratfor: The Russo-Georgian War and the Bal...   \n",
              "\n",
              "                                                Top8  ...  \\\n",
              "0  b\"The 'enemy combatent' trials are nothing but...  ...   \n",
              "1  b'An American citizen living in S.Ossetia blam...  ...   \n",
              "2  b\"I'm Trying to Get a Sense of This Whole Geor...  ...   \n",
              "\n",
              "                                               Top22  \\\n",
              "0  b'Caucasus in crisis: Georgia invades South Os...   \n",
              "1  b' Russia has just beaten the United States ov...   \n",
              "2  b'All signs point to the US encouraging Georgi...   \n",
              "\n",
              "                                               Top23  \\\n",
              "0  b'Indian shoe manufactory  - And again in a se...   \n",
              "1  b'Perhaps *the* question about the Georgia - R...   \n",
              "2  b'Christopher King argues that the US and NATO...   \n",
              "\n",
              "                                               Top24  \\\n",
              "0  b'Visitors Suffering from Mental Illnesses Ban...   \n",
              "1                 b'Russia is so much better at war'   \n",
              "2                        b'America: The New Mexico?'   \n",
              "\n",
              "                                               Top25          Open  \\\n",
              "0           b\"No Help for Mexico's Kidnapping Surge\"  11432.089844   \n",
              "1  b\"So this is what it's come to: trading sex fo...  11729.669922   \n",
              "2  b\"BBC NEWS | Asia-Pacific | Extinction 'by man...  11781.700195   \n",
              "\n",
              "           High           Low         Close     Volume     Adj Close  \n",
              "0  11759.959961  11388.040039  11734.320312  212830000  11734.320312  \n",
              "1  11867.110352  11675.530273  11782.349609  183190000  11782.349609  \n",
              "2  11782.349609  11601.519531  11642.469727  173590000  11642.469727  \n",
              "\n",
              "[3 rows x 33 columns]"
            ],
            "text/html": [
              "\n",
              "  <div id=\"df-69989e56-2af6-4912-9ff6-dd505ab7accb\">\n",
              "    <div class=\"colab-df-container\">\n",
              "      <div>\n",
              "<style scoped>\n",
              "    .dataframe tbody tr th:only-of-type {\n",
              "        vertical-align: middle;\n",
              "    }\n",
              "\n",
              "    .dataframe tbody tr th {\n",
              "        vertical-align: top;\n",
              "    }\n",
              "\n",
              "    .dataframe thead th {\n",
              "        text-align: right;\n",
              "    }\n",
              "</style>\n",
              "<table border=\"1\" class=\"dataframe\">\n",
              "  <thead>\n",
              "    <tr style=\"text-align: right;\">\n",
              "      <th></th>\n",
              "      <th>Date</th>\n",
              "      <th>Label</th>\n",
              "      <th>Top1</th>\n",
              "      <th>Top2</th>\n",
              "      <th>Top3</th>\n",
              "      <th>Top4</th>\n",
              "      <th>Top5</th>\n",
              "      <th>Top6</th>\n",
              "      <th>Top7</th>\n",
              "      <th>Top8</th>\n",
              "      <th>...</th>\n",
              "      <th>Top22</th>\n",
              "      <th>Top23</th>\n",
              "      <th>Top24</th>\n",
              "      <th>Top25</th>\n",
              "      <th>Open</th>\n",
              "      <th>High</th>\n",
              "      <th>Low</th>\n",
              "      <th>Close</th>\n",
              "      <th>Volume</th>\n",
              "      <th>Adj Close</th>\n",
              "    </tr>\n",
              "  </thead>\n",
              "  <tbody>\n",
              "    <tr>\n",
              "      <th>0</th>\n",
              "      <td>2008-08-08</td>\n",
              "      <td>0</td>\n",
              "      <td>b\"Georgia 'downs two Russian warplanes' as cou...</td>\n",
              "      <td>b'BREAKING: Musharraf to be impeached.'</td>\n",
              "      <td>b'Russia Today: Columns of troops roll into So...</td>\n",
              "      <td>b'Russian tanks are moving towards the capital...</td>\n",
              "      <td>b\"Afghan children raped with 'impunity,' U.N. ...</td>\n",
              "      <td>b'150 Russian tanks have entered South Ossetia...</td>\n",
              "      <td>b\"Breaking: Georgia invades South Ossetia, Rus...</td>\n",
              "      <td>b\"The 'enemy combatent' trials are nothing but...</td>\n",
              "      <td>...</td>\n",
              "      <td>b'Caucasus in crisis: Georgia invades South Os...</td>\n",
              "      <td>b'Indian shoe manufactory  - And again in a se...</td>\n",
              "      <td>b'Visitors Suffering from Mental Illnesses Ban...</td>\n",
              "      <td>b\"No Help for Mexico's Kidnapping Surge\"</td>\n",
              "      <td>11432.089844</td>\n",
              "      <td>11759.959961</td>\n",
              "      <td>11388.040039</td>\n",
              "      <td>11734.320312</td>\n",
              "      <td>212830000</td>\n",
              "      <td>11734.320312</td>\n",
              "    </tr>\n",
              "    <tr>\n",
              "      <th>1</th>\n",
              "      <td>2008-08-11</td>\n",
              "      <td>1</td>\n",
              "      <td>b'Why wont America and Nato help us? If they w...</td>\n",
              "      <td>b'Bush puts foot down on Georgian conflict'</td>\n",
              "      <td>b\"Jewish Georgian minister: Thanks to Israeli ...</td>\n",
              "      <td>b'Georgian army flees in disarray as Russians ...</td>\n",
              "      <td>b\"Olympic opening ceremony fireworks 'faked'\"</td>\n",
              "      <td>b'What were the Mossad with fraudulent New Zea...</td>\n",
              "      <td>b'Russia angered by Israeli military sale to G...</td>\n",
              "      <td>b'An American citizen living in S.Ossetia blam...</td>\n",
              "      <td>...</td>\n",
              "      <td>b' Russia has just beaten the United States ov...</td>\n",
              "      <td>b'Perhaps *the* question about the Georgia - R...</td>\n",
              "      <td>b'Russia is so much better at war'</td>\n",
              "      <td>b\"So this is what it's come to: trading sex fo...</td>\n",
              "      <td>11729.669922</td>\n",
              "      <td>11867.110352</td>\n",
              "      <td>11675.530273</td>\n",
              "      <td>11782.349609</td>\n",
              "      <td>183190000</td>\n",
              "      <td>11782.349609</td>\n",
              "    </tr>\n",
              "    <tr>\n",
              "      <th>2</th>\n",
              "      <td>2008-08-12</td>\n",
              "      <td>0</td>\n",
              "      <td>b'Remember that adorable 9-year-old who sang a...</td>\n",
              "      <td>b\"Russia 'ends Georgia operation'\"</td>\n",
              "      <td>b'\"If we had no sexual harassment we would hav...</td>\n",
              "      <td>b\"Al-Qa'eda is losing support in Iraq because ...</td>\n",
              "      <td>b'Ceasefire in Georgia: Putin Outmaneuvers the...</td>\n",
              "      <td>b'Why Microsoft and Intel tried to kill the XO...</td>\n",
              "      <td>b'Stratfor: The Russo-Georgian War and the Bal...</td>\n",
              "      <td>b\"I'm Trying to Get a Sense of This Whole Geor...</td>\n",
              "      <td>...</td>\n",
              "      <td>b'All signs point to the US encouraging Georgi...</td>\n",
              "      <td>b'Christopher King argues that the US and NATO...</td>\n",
              "      <td>b'America: The New Mexico?'</td>\n",
              "      <td>b\"BBC NEWS | Asia-Pacific | Extinction 'by man...</td>\n",
              "      <td>11781.700195</td>\n",
              "      <td>11782.349609</td>\n",
              "      <td>11601.519531</td>\n",
              "      <td>11642.469727</td>\n",
              "      <td>173590000</td>\n",
              "      <td>11642.469727</td>\n",
              "    </tr>\n",
              "  </tbody>\n",
              "</table>\n",
              "<p>3 rows × 33 columns</p>\n",
              "</div>\n",
              "      <button class=\"colab-df-convert\" onclick=\"convertToInteractive('df-69989e56-2af6-4912-9ff6-dd505ab7accb')\"\n",
              "              title=\"Convert this dataframe to an interactive table.\"\n",
              "              style=\"display:none;\">\n",
              "        \n",
              "  <svg xmlns=\"http://www.w3.org/2000/svg\" height=\"24px\"viewBox=\"0 0 24 24\"\n",
              "       width=\"24px\">\n",
              "    <path d=\"M0 0h24v24H0V0z\" fill=\"none\"/>\n",
              "    <path d=\"M18.56 5.44l.94 2.06.94-2.06 2.06-.94-2.06-.94-.94-2.06-.94 2.06-2.06.94zm-11 1L8.5 8.5l.94-2.06 2.06-.94-2.06-.94L8.5 2.5l-.94 2.06-2.06.94zm10 10l.94 2.06.94-2.06 2.06-.94-2.06-.94-.94-2.06-.94 2.06-2.06.94z\"/><path d=\"M17.41 7.96l-1.37-1.37c-.4-.4-.92-.59-1.43-.59-.52 0-1.04.2-1.43.59L10.3 9.45l-7.72 7.72c-.78.78-.78 2.05 0 2.83L4 21.41c.39.39.9.59 1.41.59.51 0 1.02-.2 1.41-.59l7.78-7.78 2.81-2.81c.8-.78.8-2.07 0-2.86zM5.41 20L4 18.59l7.72-7.72 1.47 1.35L5.41 20z\"/>\n",
              "  </svg>\n",
              "      </button>\n",
              "      \n",
              "  <style>\n",
              "    .colab-df-container {\n",
              "      display:flex;\n",
              "      flex-wrap:wrap;\n",
              "      gap: 12px;\n",
              "    }\n",
              "\n",
              "    .colab-df-convert {\n",
              "      background-color: #E8F0FE;\n",
              "      border: none;\n",
              "      border-radius: 50%;\n",
              "      cursor: pointer;\n",
              "      display: none;\n",
              "      fill: #1967D2;\n",
              "      height: 32px;\n",
              "      padding: 0 0 0 0;\n",
              "      width: 32px;\n",
              "    }\n",
              "\n",
              "    .colab-df-convert:hover {\n",
              "      background-color: #E2EBFA;\n",
              "      box-shadow: 0px 1px 2px rgba(60, 64, 67, 0.3), 0px 1px 3px 1px rgba(60, 64, 67, 0.15);\n",
              "      fill: #174EA6;\n",
              "    }\n",
              "\n",
              "    [theme=dark] .colab-df-convert {\n",
              "      background-color: #3B4455;\n",
              "      fill: #D2E3FC;\n",
              "    }\n",
              "\n",
              "    [theme=dark] .colab-df-convert:hover {\n",
              "      background-color: #434B5C;\n",
              "      box-shadow: 0px 1px 3px 1px rgba(0, 0, 0, 0.15);\n",
              "      filter: drop-shadow(0px 1px 2px rgba(0, 0, 0, 0.3));\n",
              "      fill: #FFFFFF;\n",
              "    }\n",
              "  </style>\n",
              "\n",
              "      <script>\n",
              "        const buttonEl =\n",
              "          document.querySelector('#df-69989e56-2af6-4912-9ff6-dd505ab7accb button.colab-df-convert');\n",
              "        buttonEl.style.display =\n",
              "          google.colab.kernel.accessAllowed ? 'block' : 'none';\n",
              "\n",
              "        async function convertToInteractive(key) {\n",
              "          const element = document.querySelector('#df-69989e56-2af6-4912-9ff6-dd505ab7accb');\n",
              "          const dataTable =\n",
              "            await google.colab.kernel.invokeFunction('convertToInteractive',\n",
              "                                                     [key], {});\n",
              "          if (!dataTable) return;\n",
              "\n",
              "          const docLinkHtml = 'Like what you see? Visit the ' +\n",
              "            '<a target=\"_blank\" href=https://colab.research.google.com/notebooks/data_table.ipynb>data table notebook</a>'\n",
              "            + ' to learn more about interactive tables.';\n",
              "          element.innerHTML = '';\n",
              "          dataTable['output_type'] = 'display_data';\n",
              "          await google.colab.output.renderOutput(dataTable, element);\n",
              "          const docLink = document.createElement('div');\n",
              "          docLink.innerHTML = docLinkHtml;\n",
              "          element.appendChild(docLink);\n",
              "        }\n",
              "      </script>\n",
              "    </div>\n",
              "  </div>\n",
              "  "
            ]
          },
          "metadata": {},
          "execution_count": 11
        }
      ],
      "source": [
        "data= df.merge(df1, how='inner', on='Date')\n",
        "data.head(3)"
      ]
    },
    {
      "cell_type": "code",
      "execution_count": 12,
      "metadata": {
        "id": "J9WkD2ItrzHd"
      },
      "outputs": [],
      "source": [
        "def remove_special_characters(text, remove_digits= True):\n",
        "    #text = text.replace('$', 'currency')\n",
        "    pattern = r'[^\\w]+' if not remove_digits else r'[^a-zA-Z]'\n",
        "    text = re.sub(pattern,\" \",text)\n",
        "    text = re.sub(r'\\s+',' ', text)\n",
        "    return text\n",
        "\n",
        "def remove_accented_characters(text):\n",
        "    text =  unicodedata.normalize('NFKD',text).encode('ascii','ignore').decode('utf-8','ignore')\n",
        "    return text\n",
        "\n",
        "def remove_extra_spaces(text):\n",
        "    text = re.sub(' +', ' ', text).strip()\n",
        "    return text\n",
        "\n",
        "def correct_spelling_symspell(text):\n",
        "    words = [\n",
        "        sym_spell.lookup(\n",
        "            word, \n",
        "            Verbosity.CLOSEST, \n",
        "            max_edit_distance=2,\n",
        "            include_unknown=True\n",
        "            )[0].term \n",
        "        for word in text.split()] \n",
        "    tweet = \" \".join(words)\n",
        "    text = spell(text)\n",
        "    return text\n",
        "\n",
        "def correct_spelling_symspell_compound(text):\n",
        "    words = [\n",
        "        sym_spell.lookup_compound(\n",
        "            word, \n",
        "            max_edit_distance=2\n",
        "            )[0].term \n",
        "        for word in text.split()] \n",
        "    text = \" \".join(words)\n",
        "    return text\n",
        "\n",
        "def spacy_lemma(text):\n",
        "    text = nlp(text)\n",
        "    new_text = []\n",
        "    words = [word.lemma_ for word in text]\n",
        "    for small in words:\n",
        "        if small == '-PRON-':\n",
        "            pass\n",
        "        else:\n",
        "            new_text.append(small)\n",
        "\n",
        "    return ' '.join(new_text)\n",
        "\n",
        "def contractions_text(text):\n",
        "    return contractions.fix(text)\n",
        "\n",
        "def stop_words_removal(text, is_lower_case = False, stopwords = None):\n",
        "    if stopwords == None:\n",
        "        stopwords = nlp.Defaults.stop_words\n",
        "    \n",
        "    if not is_lower_case:\n",
        "        text = text.lower()\n",
        "    tokens = nltk.word_tokenize(text)\n",
        "    new_token = []\n",
        "    for i in tokens:\n",
        "        if len(i)<=1:\n",
        "            pass\n",
        "        else:\n",
        "            new_token.append(i)\n",
        "    \n",
        "    removed_text = [word for word in new_token if word not in stopwords]\n",
        "    \n",
        "    return ' '.join(removed_text)\n",
        "\n",
        "\n",
        "def preprocessor_engine(text):\n",
        "    corpus =[]\n",
        "    for sent in tqdm.tqdm(text):\n",
        "        sent = remove_accented_characters(sent)\n",
        "        sent = contractions_text(sent)\n",
        "        sent = remove_special_characters(sent)\n",
        "        sent = spacy_lemma(sent)\n",
        "        sent = stop_words_removal(sent)\n",
        "\n",
        "        sent = remove_extra_spaces(sent)\n",
        "        sent = correct_spelling_symspell(sent)\n",
        "        sent = correct_spelling_symspell_compound(sent)\n",
        "        \n",
        "\n",
        "        corpus.append(sent)\n",
        "    return corpus"
      ]
    },
    {
      "cell_type": "code",
      "execution_count": 13,
      "metadata": {
        "id": "2vzs7hIHr3xz"
      },
      "outputs": [],
      "source": [
        "#Combine the top news headline:\n",
        "\n",
        "headline= []\n",
        "\n",
        "for row  in range (0, len(df.index)):\n",
        "    headline.append(\" \".join(str(x) for x in df.iloc[row, 2:20]))\n"
      ]
    },
    {
      "cell_type": "code",
      "execution_count": 14,
      "metadata": {
        "colab": {
          "base_uri": "https://localhost:8080/",
          "height": 191
        },
        "id": "HaKz0Jzor6d4",
        "outputId": "ff68d94c-1eba-4fb8-ce1d-59941852d24f"
      },
      "outputs": [
        {
          "output_type": "execute_result",
          "data": {
            "text/plain": [
              "'b\"Georgia \\'downs two Russian warplanes\\' as countries move to brink of war\" b\\'BREAKING: Musharraf to be impeached.\\' b\\'Russia Today: Columns of troops roll into South Ossetia; footage from fighting (YouTube)\\' b\\'Russian tanks are moving towards the capital of South Ossetia, which has reportedly been completely destroyed by Georgian artillery fire\\' b\"Afghan children raped with \\'impunity,\\' U.N. official says - this is sick, a three year old was raped and they do nothing\" b\\'150 Russian tanks have entered South Ossetia whilst Georgia shoots down two Russian jets.\\' b\"Breaking: Georgia invades South Ossetia, Russia warned it would intervene on SO\\'s side\" b\"The \\'enemy combatent\\' trials are nothing but a sham: Salim Haman has been sentenced to 5 1/2 years, but will be kept longer anyway just because they feel like it.\" b\\'Georgian troops retreat from S. Osettain capital, presumably leaving several hundred people killed. [VIDEO]\\' b\\'Did the U.S. Prep Georgia for War with Russia?\\' b\\'Rice Gives Green Light for Israel to Attack Iran: Says U.S. has no veto over Israeli military ops\\' b\\'Announcing:Class Action Lawsuit on Behalf of American Public Against the FBI\\' b\"So---Russia and Georgia are at war and the NYT\\'s top story is opening ceremonies of the Olympics?  What a fucking disgrace and yet further proof of the decline of journalism.\" b\"China tells Bush to stay out of other countries\\' affairs\" b\\'Did World War III start today?\\' b\\'Georgia Invades South Ossetia - if Russia gets involved, will NATO absorb Georgia and unleash a full scale war?\\' b\\'Al-Qaeda Faces Islamist Backlash\\' b\\'Condoleezza Rice: \"The US would not act to prevent an Israeli strike on Iran.\" Israeli Defense Minister Ehud Barak: \"Israel is prepared for uncompromising victory in the case of military hostilities.\"\\''"
            ],
            "application/vnd.google.colaboratory.intrinsic+json": {
              "type": "string"
            }
          },
          "metadata": {},
          "execution_count": 14
        }
      ],
      "source": [
        "headline[0]"
      ]
    },
    {
      "cell_type": "code",
      "execution_count": 15,
      "metadata": {
        "colab": {
          "base_uri": "https://localhost:8080/"
        },
        "id": "eQlv-kAxr-FN",
        "outputId": "b74cea05-d2bb-4263-d6ed-5d42f5578652"
      },
      "outputs": [
        {
          "output_type": "stream",
          "name": "stderr",
          "text": [
            "100%|██████████| 1989/1989 [26:11<00:00,  1.27it/s]\n"
          ]
        }
      ],
      "source": [
        "data_train = preprocessor_engine(headline)"
      ]
    },
    {
      "cell_type": "code",
      "execution_count": 16,
      "metadata": {
        "colab": {
          "base_uri": "https://localhost:8080/"
        },
        "id": "8DbwovYmsbAj",
        "outputId": "ad35df73-cb23-4f3b-e73d-d78936f21a51"
      },
      "outputs": [
        {
          "output_type": "execute_result",
          "data": {
            "text/plain": [
              "['i',\n",
              " 'me',\n",
              " 'my',\n",
              " 'myself',\n",
              " 'we',\n",
              " 'our',\n",
              " 'ours',\n",
              " 'ourselves',\n",
              " 'you',\n",
              " \"you're\",\n",
              " \"you've\",\n",
              " \"you'll\",\n",
              " \"you'd\",\n",
              " 'your',\n",
              " 'yours',\n",
              " 'yourself',\n",
              " 'yourselves',\n",
              " 'he',\n",
              " 'him',\n",
              " 'his',\n",
              " 'himself',\n",
              " 'she',\n",
              " \"she's\",\n",
              " 'her',\n",
              " 'hers',\n",
              " 'herself',\n",
              " 'it',\n",
              " \"it's\",\n",
              " 'its',\n",
              " 'itself',\n",
              " 'they',\n",
              " 'them',\n",
              " 'their',\n",
              " 'theirs',\n",
              " 'themselves',\n",
              " 'what',\n",
              " 'which',\n",
              " 'who',\n",
              " 'whom',\n",
              " 'this',\n",
              " 'that',\n",
              " \"that'll\",\n",
              " 'these',\n",
              " 'those',\n",
              " 'am',\n",
              " 'is',\n",
              " 'are',\n",
              " 'was',\n",
              " 'were',\n",
              " 'be',\n",
              " 'been',\n",
              " 'being',\n",
              " 'have',\n",
              " 'has',\n",
              " 'had',\n",
              " 'having',\n",
              " 'do',\n",
              " 'does',\n",
              " 'did',\n",
              " 'doing',\n",
              " 'a',\n",
              " 'an',\n",
              " 'the',\n",
              " 'and',\n",
              " 'but',\n",
              " 'if',\n",
              " 'or',\n",
              " 'because',\n",
              " 'as',\n",
              " 'until',\n",
              " 'while',\n",
              " 'of',\n",
              " 'at',\n",
              " 'by',\n",
              " 'for',\n",
              " 'with',\n",
              " 'about',\n",
              " 'against',\n",
              " 'between',\n",
              " 'into',\n",
              " 'through',\n",
              " 'during',\n",
              " 'before',\n",
              " 'after',\n",
              " 'above',\n",
              " 'below',\n",
              " 'to',\n",
              " 'from',\n",
              " 'up',\n",
              " 'down',\n",
              " 'in',\n",
              " 'out',\n",
              " 'on',\n",
              " 'off',\n",
              " 'over',\n",
              " 'under',\n",
              " 'again',\n",
              " 'further',\n",
              " 'then',\n",
              " 'once',\n",
              " 'here',\n",
              " 'there',\n",
              " 'when',\n",
              " 'where',\n",
              " 'why',\n",
              " 'how',\n",
              " 'all',\n",
              " 'any',\n",
              " 'both',\n",
              " 'each',\n",
              " 'few',\n",
              " 'more',\n",
              " 'most',\n",
              " 'other',\n",
              " 'some',\n",
              " 'such',\n",
              " 'no',\n",
              " 'nor',\n",
              " 'not',\n",
              " 'only',\n",
              " 'own',\n",
              " 'same',\n",
              " 'so',\n",
              " 'than',\n",
              " 'too',\n",
              " 'very',\n",
              " 's',\n",
              " 't',\n",
              " 'can',\n",
              " 'will',\n",
              " 'just',\n",
              " 'don',\n",
              " \"don't\",\n",
              " 'should',\n",
              " \"should've\",\n",
              " 'now',\n",
              " 'd',\n",
              " 'll',\n",
              " 'm',\n",
              " 'o',\n",
              " 're',\n",
              " 've',\n",
              " 'y',\n",
              " 'ain',\n",
              " 'aren',\n",
              " \"aren't\",\n",
              " 'couldn',\n",
              " \"couldn't\",\n",
              " 'didn',\n",
              " \"didn't\",\n",
              " 'doesn',\n",
              " \"doesn't\",\n",
              " 'hadn',\n",
              " \"hadn't\",\n",
              " 'hasn',\n",
              " \"hasn't\",\n",
              " 'haven',\n",
              " \"haven't\",\n",
              " 'isn',\n",
              " \"isn't\",\n",
              " 'ma',\n",
              " 'mightn',\n",
              " \"mightn't\",\n",
              " 'mustn',\n",
              " \"mustn't\",\n",
              " 'needn',\n",
              " \"needn't\",\n",
              " 'shan',\n",
              " \"shan't\",\n",
              " 'shouldn',\n",
              " \"shouldn't\",\n",
              " 'wasn',\n",
              " \"wasn't\",\n",
              " 'weren',\n",
              " \"weren't\",\n",
              " 'won',\n",
              " \"won't\",\n",
              " 'wouldn',\n",
              " \"wouldn't\"]"
            ]
          },
          "metadata": {},
          "execution_count": 16
        }
      ],
      "source": [
        "lst_stopwords = nltk.corpus.stopwords.words(\"english\")\n",
        "lst_stopwords"
      ]
    },
    {
      "cell_type": "code",
      "execution_count": 17,
      "metadata": {
        "id": "3NW6ZdLNseDz"
      },
      "outputs": [],
      "source": [
        "# Creating corpus of train dataset\n",
        "ps = PorterStemmer()\n",
        "data_1 = []\n",
        "\n",
        "for i in range(0, len(data_train)):\n",
        "  \n",
        "  # Tokenizing the news-title by words\n",
        "  words = data_train[i].split()\n",
        "\n",
        "  # Removing the stopwords\n",
        "  words = [word for word in words if word not in set(stopwords.words('english'))]\n",
        "\n",
        "  # Stemming the words\n",
        "  words = [ps.stem(word) for word in words]\n",
        "\n",
        "  # Joining the stemmed words\n",
        "  headline = ' '.join(words)\n",
        "\n",
        "  # Building a corpus of news-title\n",
        "  data_1.append(headline)"
      ]
    },
    {
      "cell_type": "code",
      "execution_count": 18,
      "metadata": {
        "colab": {
          "base_uri": "https://localhost:8080/",
          "height": 191
        },
        "id": "gRxqpbIMsiDL",
        "outputId": "9a4a00fe-4e1e-4c4d-c910-40b0babae17a"
      },
      "outputs": [
        {
          "output_type": "execute_result",
          "data": {
            "text/plain": [
              "'georgia russian airplan countri brink war break musharraf impeach russia today column troop roll south ossetia footag fight youtub russian tank capit south ossetia reportedli complet destroy georgia artilleri fire afghan child rape impun offici sick year old rape russian tank enter south ossetia whilst georgia shoot russian jet break georgia invad south ossetia russia warn interven enemi combat trial sham slim human sentenc year long feel like georgia troop retreat osettain capit presum leav peopl kill video prep georgia war russia rice green light israel attack iran veto isra militari op announc class action lawsuit behalf american public fbi russia georgia war nyt stori open ceremoni olymp fuck disgrac proof declin journal china tell bush stay countri affair world war iii start today georgia invad south ossetia russia involv nato absorb georgia unleash scale war al qaeda face islam backlash condoleezza rice act prevent isra strike iran isra defens minist bark israel prepar compromis victori case militari hostil'"
            ],
            "application/vnd.google.colaboratory.intrinsic+json": {
              "type": "string"
            }
          },
          "metadata": {},
          "execution_count": 18
        }
      ],
      "source": [
        "data_1[0]"
      ]
    },
    {
      "cell_type": "code",
      "execution_count": 19,
      "metadata": {
        "id": "q7bn78agswvL"
      },
      "outputs": [],
      "source": [
        "data[\"cleaned_data\"] = data_1"
      ]
    },
    {
      "cell_type": "code",
      "execution_count": 20,
      "metadata": {
        "colab": {
          "base_uri": "https://localhost:8080/",
          "height": 413
        },
        "id": "rfRn9Nxds0Fr",
        "outputId": "0688aa55-a1a3-43b6-9828-0254f2b2922a"
      },
      "outputs": [
        {
          "output_type": "execute_result",
          "data": {
            "text/plain": [
              "         Date  Label                                               Top1  \\\n",
              "0  2008-08-08      0  b\"Georgia 'downs two Russian warplanes' as cou...   \n",
              "1  2008-08-11      1  b'Why wont America and Nato help us? If they w...   \n",
              "\n",
              "                                          Top2  \\\n",
              "0      b'BREAKING: Musharraf to be impeached.'   \n",
              "1  b'Bush puts foot down on Georgian conflict'   \n",
              "\n",
              "                                                Top3  \\\n",
              "0  b'Russia Today: Columns of troops roll into So...   \n",
              "1  b\"Jewish Georgian minister: Thanks to Israeli ...   \n",
              "\n",
              "                                                Top4  \\\n",
              "0  b'Russian tanks are moving towards the capital...   \n",
              "1  b'Georgian army flees in disarray as Russians ...   \n",
              "\n",
              "                                                Top5  \\\n",
              "0  b\"Afghan children raped with 'impunity,' U.N. ...   \n",
              "1      b\"Olympic opening ceremony fireworks 'faked'\"   \n",
              "\n",
              "                                                Top6  \\\n",
              "0  b'150 Russian tanks have entered South Ossetia...   \n",
              "1  b'What were the Mossad with fraudulent New Zea...   \n",
              "\n",
              "                                                Top7  \\\n",
              "0  b\"Breaking: Georgia invades South Ossetia, Rus...   \n",
              "1  b'Russia angered by Israeli military sale to G...   \n",
              "\n",
              "                                                Top8  ...  \\\n",
              "0  b\"The 'enemy combatent' trials are nothing but...  ...   \n",
              "1  b'An American citizen living in S.Ossetia blam...  ...   \n",
              "\n",
              "                                               Top23  \\\n",
              "0  b'Indian shoe manufactory  - And again in a se...   \n",
              "1  b'Perhaps *the* question about the Georgia - R...   \n",
              "\n",
              "                                               Top24  \\\n",
              "0  b'Visitors Suffering from Mental Illnesses Ban...   \n",
              "1                 b'Russia is so much better at war'   \n",
              "\n",
              "                                               Top25          Open  \\\n",
              "0           b\"No Help for Mexico's Kidnapping Surge\"  11432.089844   \n",
              "1  b\"So this is what it's come to: trading sex fo...  11729.669922   \n",
              "\n",
              "           High           Low         Close     Volume     Adj Close  \\\n",
              "0  11759.959961  11388.040039  11734.320312  212830000  11734.320312   \n",
              "1  11867.110352  11675.530273  11782.349609  183190000  11782.349609   \n",
              "\n",
              "                                        cleaned_data  \n",
              "0  georgia russian airplan countri brink war brea...  \n",
              "1  america nato help help help iraq bush foot geo...  \n",
              "\n",
              "[2 rows x 34 columns]"
            ],
            "text/html": [
              "\n",
              "  <div id=\"df-4edbc548-6ffe-43a0-ada2-46a72a701b98\">\n",
              "    <div class=\"colab-df-container\">\n",
              "      <div>\n",
              "<style scoped>\n",
              "    .dataframe tbody tr th:only-of-type {\n",
              "        vertical-align: middle;\n",
              "    }\n",
              "\n",
              "    .dataframe tbody tr th {\n",
              "        vertical-align: top;\n",
              "    }\n",
              "\n",
              "    .dataframe thead th {\n",
              "        text-align: right;\n",
              "    }\n",
              "</style>\n",
              "<table border=\"1\" class=\"dataframe\">\n",
              "  <thead>\n",
              "    <tr style=\"text-align: right;\">\n",
              "      <th></th>\n",
              "      <th>Date</th>\n",
              "      <th>Label</th>\n",
              "      <th>Top1</th>\n",
              "      <th>Top2</th>\n",
              "      <th>Top3</th>\n",
              "      <th>Top4</th>\n",
              "      <th>Top5</th>\n",
              "      <th>Top6</th>\n",
              "      <th>Top7</th>\n",
              "      <th>Top8</th>\n",
              "      <th>...</th>\n",
              "      <th>Top23</th>\n",
              "      <th>Top24</th>\n",
              "      <th>Top25</th>\n",
              "      <th>Open</th>\n",
              "      <th>High</th>\n",
              "      <th>Low</th>\n",
              "      <th>Close</th>\n",
              "      <th>Volume</th>\n",
              "      <th>Adj Close</th>\n",
              "      <th>cleaned_data</th>\n",
              "    </tr>\n",
              "  </thead>\n",
              "  <tbody>\n",
              "    <tr>\n",
              "      <th>0</th>\n",
              "      <td>2008-08-08</td>\n",
              "      <td>0</td>\n",
              "      <td>b\"Georgia 'downs two Russian warplanes' as cou...</td>\n",
              "      <td>b'BREAKING: Musharraf to be impeached.'</td>\n",
              "      <td>b'Russia Today: Columns of troops roll into So...</td>\n",
              "      <td>b'Russian tanks are moving towards the capital...</td>\n",
              "      <td>b\"Afghan children raped with 'impunity,' U.N. ...</td>\n",
              "      <td>b'150 Russian tanks have entered South Ossetia...</td>\n",
              "      <td>b\"Breaking: Georgia invades South Ossetia, Rus...</td>\n",
              "      <td>b\"The 'enemy combatent' trials are nothing but...</td>\n",
              "      <td>...</td>\n",
              "      <td>b'Indian shoe manufactory  - And again in a se...</td>\n",
              "      <td>b'Visitors Suffering from Mental Illnesses Ban...</td>\n",
              "      <td>b\"No Help for Mexico's Kidnapping Surge\"</td>\n",
              "      <td>11432.089844</td>\n",
              "      <td>11759.959961</td>\n",
              "      <td>11388.040039</td>\n",
              "      <td>11734.320312</td>\n",
              "      <td>212830000</td>\n",
              "      <td>11734.320312</td>\n",
              "      <td>georgia russian airplan countri brink war brea...</td>\n",
              "    </tr>\n",
              "    <tr>\n",
              "      <th>1</th>\n",
              "      <td>2008-08-11</td>\n",
              "      <td>1</td>\n",
              "      <td>b'Why wont America and Nato help us? If they w...</td>\n",
              "      <td>b'Bush puts foot down on Georgian conflict'</td>\n",
              "      <td>b\"Jewish Georgian minister: Thanks to Israeli ...</td>\n",
              "      <td>b'Georgian army flees in disarray as Russians ...</td>\n",
              "      <td>b\"Olympic opening ceremony fireworks 'faked'\"</td>\n",
              "      <td>b'What were the Mossad with fraudulent New Zea...</td>\n",
              "      <td>b'Russia angered by Israeli military sale to G...</td>\n",
              "      <td>b'An American citizen living in S.Ossetia blam...</td>\n",
              "      <td>...</td>\n",
              "      <td>b'Perhaps *the* question about the Georgia - R...</td>\n",
              "      <td>b'Russia is so much better at war'</td>\n",
              "      <td>b\"So this is what it's come to: trading sex fo...</td>\n",
              "      <td>11729.669922</td>\n",
              "      <td>11867.110352</td>\n",
              "      <td>11675.530273</td>\n",
              "      <td>11782.349609</td>\n",
              "      <td>183190000</td>\n",
              "      <td>11782.349609</td>\n",
              "      <td>america nato help help help iraq bush foot geo...</td>\n",
              "    </tr>\n",
              "  </tbody>\n",
              "</table>\n",
              "<p>2 rows × 34 columns</p>\n",
              "</div>\n",
              "      <button class=\"colab-df-convert\" onclick=\"convertToInteractive('df-4edbc548-6ffe-43a0-ada2-46a72a701b98')\"\n",
              "              title=\"Convert this dataframe to an interactive table.\"\n",
              "              style=\"display:none;\">\n",
              "        \n",
              "  <svg xmlns=\"http://www.w3.org/2000/svg\" height=\"24px\"viewBox=\"0 0 24 24\"\n",
              "       width=\"24px\">\n",
              "    <path d=\"M0 0h24v24H0V0z\" fill=\"none\"/>\n",
              "    <path d=\"M18.56 5.44l.94 2.06.94-2.06 2.06-.94-2.06-.94-.94-2.06-.94 2.06-2.06.94zm-11 1L8.5 8.5l.94-2.06 2.06-.94-2.06-.94L8.5 2.5l-.94 2.06-2.06.94zm10 10l.94 2.06.94-2.06 2.06-.94-2.06-.94-.94-2.06-.94 2.06-2.06.94z\"/><path d=\"M17.41 7.96l-1.37-1.37c-.4-.4-.92-.59-1.43-.59-.52 0-1.04.2-1.43.59L10.3 9.45l-7.72 7.72c-.78.78-.78 2.05 0 2.83L4 21.41c.39.39.9.59 1.41.59.51 0 1.02-.2 1.41-.59l7.78-7.78 2.81-2.81c.8-.78.8-2.07 0-2.86zM5.41 20L4 18.59l7.72-7.72 1.47 1.35L5.41 20z\"/>\n",
              "  </svg>\n",
              "      </button>\n",
              "      \n",
              "  <style>\n",
              "    .colab-df-container {\n",
              "      display:flex;\n",
              "      flex-wrap:wrap;\n",
              "      gap: 12px;\n",
              "    }\n",
              "\n",
              "    .colab-df-convert {\n",
              "      background-color: #E8F0FE;\n",
              "      border: none;\n",
              "      border-radius: 50%;\n",
              "      cursor: pointer;\n",
              "      display: none;\n",
              "      fill: #1967D2;\n",
              "      height: 32px;\n",
              "      padding: 0 0 0 0;\n",
              "      width: 32px;\n",
              "    }\n",
              "\n",
              "    .colab-df-convert:hover {\n",
              "      background-color: #E2EBFA;\n",
              "      box-shadow: 0px 1px 2px rgba(60, 64, 67, 0.3), 0px 1px 3px 1px rgba(60, 64, 67, 0.15);\n",
              "      fill: #174EA6;\n",
              "    }\n",
              "\n",
              "    [theme=dark] .colab-df-convert {\n",
              "      background-color: #3B4455;\n",
              "      fill: #D2E3FC;\n",
              "    }\n",
              "\n",
              "    [theme=dark] .colab-df-convert:hover {\n",
              "      background-color: #434B5C;\n",
              "      box-shadow: 0px 1px 3px 1px rgba(0, 0, 0, 0.15);\n",
              "      filter: drop-shadow(0px 1px 2px rgba(0, 0, 0, 0.3));\n",
              "      fill: #FFFFFF;\n",
              "    }\n",
              "  </style>\n",
              "\n",
              "      <script>\n",
              "        const buttonEl =\n",
              "          document.querySelector('#df-4edbc548-6ffe-43a0-ada2-46a72a701b98 button.colab-df-convert');\n",
              "        buttonEl.style.display =\n",
              "          google.colab.kernel.accessAllowed ? 'block' : 'none';\n",
              "\n",
              "        async function convertToInteractive(key) {\n",
              "          const element = document.querySelector('#df-4edbc548-6ffe-43a0-ada2-46a72a701b98');\n",
              "          const dataTable =\n",
              "            await google.colab.kernel.invokeFunction('convertToInteractive',\n",
              "                                                     [key], {});\n",
              "          if (!dataTable) return;\n",
              "\n",
              "          const docLinkHtml = 'Like what you see? Visit the ' +\n",
              "            '<a target=\"_blank\" href=https://colab.research.google.com/notebooks/data_table.ipynb>data table notebook</a>'\n",
              "            + ' to learn more about interactive tables.';\n",
              "          element.innerHTML = '';\n",
              "          dataTable['output_type'] = 'display_data';\n",
              "          await google.colab.output.renderOutput(dataTable, element);\n",
              "          const docLink = document.createElement('div');\n",
              "          docLink.innerHTML = docLinkHtml;\n",
              "          element.appendChild(docLink);\n",
              "        }\n",
              "      </script>\n",
              "    </div>\n",
              "  </div>\n",
              "  "
            ]
          },
          "metadata": {},
          "execution_count": 20
        }
      ],
      "source": [
        "data.head(2)"
      ]
    },
    {
      "cell_type": "code",
      "execution_count": 20,
      "metadata": {
        "id": "3hB0OBpc-MvE"
      },
      "outputs": [],
      "source": []
    },
    {
      "cell_type": "code",
      "execution_count": 21,
      "metadata": {
        "id": "qANjsKc8s7DB"
      },
      "outputs": [],
      "source": [
        "data[\"spellcheck\"] = data[\"cleaned_data\"].apply(correct_spelling_symspell)"
      ]
    },
    {
      "cell_type": "code",
      "execution_count": 22,
      "metadata": {
        "colab": {
          "base_uri": "https://localhost:8080/",
          "height": 413
        },
        "id": "cYfnpRICuckx",
        "outputId": "74d9a072-7a29-45b0-d201-2ec3bfdebfc9"
      },
      "outputs": [
        {
          "output_type": "execute_result",
          "data": {
            "text/plain": [
              "         Date  Label                                               Top1  \\\n",
              "0  2008-08-08      0  b\"Georgia 'downs two Russian warplanes' as cou...   \n",
              "1  2008-08-11      1  b'Why wont America and Nato help us? If they w...   \n",
              "\n",
              "                                          Top2  \\\n",
              "0      b'BREAKING: Musharraf to be impeached.'   \n",
              "1  b'Bush puts foot down on Georgian conflict'   \n",
              "\n",
              "                                                Top3  \\\n",
              "0  b'Russia Today: Columns of troops roll into So...   \n",
              "1  b\"Jewish Georgian minister: Thanks to Israeli ...   \n",
              "\n",
              "                                                Top4  \\\n",
              "0  b'Russian tanks are moving towards the capital...   \n",
              "1  b'Georgian army flees in disarray as Russians ...   \n",
              "\n",
              "                                                Top5  \\\n",
              "0  b\"Afghan children raped with 'impunity,' U.N. ...   \n",
              "1      b\"Olympic opening ceremony fireworks 'faked'\"   \n",
              "\n",
              "                                                Top6  \\\n",
              "0  b'150 Russian tanks have entered South Ossetia...   \n",
              "1  b'What were the Mossad with fraudulent New Zea...   \n",
              "\n",
              "                                                Top7  \\\n",
              "0  b\"Breaking: Georgia invades South Ossetia, Rus...   \n",
              "1  b'Russia angered by Israeli military sale to G...   \n",
              "\n",
              "                                                Top8  ...  \\\n",
              "0  b\"The 'enemy combatent' trials are nothing but...  ...   \n",
              "1  b'An American citizen living in S.Ossetia blam...  ...   \n",
              "\n",
              "                                               Top24  \\\n",
              "0  b'Visitors Suffering from Mental Illnesses Ban...   \n",
              "1                 b'Russia is so much better at war'   \n",
              "\n",
              "                                               Top25          Open  \\\n",
              "0           b\"No Help for Mexico's Kidnapping Surge\"  11432.089844   \n",
              "1  b\"So this is what it's come to: trading sex fo...  11729.669922   \n",
              "\n",
              "           High           Low         Close     Volume     Adj Close  \\\n",
              "0  11759.959961  11388.040039  11734.320312  212830000  11734.320312   \n",
              "1  11867.110352  11675.530273  11782.349609  183190000  11782.349609   \n",
              "\n",
              "                                        cleaned_data  \\\n",
              "0  georgia russian airplan countri brink war brea...   \n",
              "1  america nato help help help iraq bush foot geo...   \n",
              "\n",
              "                                          spellcheck  \n",
              "0  georgia russian airplane country brink war bre...  \n",
              "1  america nato help help help iraq bush foot geo...  \n",
              "\n",
              "[2 rows x 35 columns]"
            ],
            "text/html": [
              "\n",
              "  <div id=\"df-05642dcc-522a-4596-adce-9eaaf5f1c500\">\n",
              "    <div class=\"colab-df-container\">\n",
              "      <div>\n",
              "<style scoped>\n",
              "    .dataframe tbody tr th:only-of-type {\n",
              "        vertical-align: middle;\n",
              "    }\n",
              "\n",
              "    .dataframe tbody tr th {\n",
              "        vertical-align: top;\n",
              "    }\n",
              "\n",
              "    .dataframe thead th {\n",
              "        text-align: right;\n",
              "    }\n",
              "</style>\n",
              "<table border=\"1\" class=\"dataframe\">\n",
              "  <thead>\n",
              "    <tr style=\"text-align: right;\">\n",
              "      <th></th>\n",
              "      <th>Date</th>\n",
              "      <th>Label</th>\n",
              "      <th>Top1</th>\n",
              "      <th>Top2</th>\n",
              "      <th>Top3</th>\n",
              "      <th>Top4</th>\n",
              "      <th>Top5</th>\n",
              "      <th>Top6</th>\n",
              "      <th>Top7</th>\n",
              "      <th>Top8</th>\n",
              "      <th>...</th>\n",
              "      <th>Top24</th>\n",
              "      <th>Top25</th>\n",
              "      <th>Open</th>\n",
              "      <th>High</th>\n",
              "      <th>Low</th>\n",
              "      <th>Close</th>\n",
              "      <th>Volume</th>\n",
              "      <th>Adj Close</th>\n",
              "      <th>cleaned_data</th>\n",
              "      <th>spellcheck</th>\n",
              "    </tr>\n",
              "  </thead>\n",
              "  <tbody>\n",
              "    <tr>\n",
              "      <th>0</th>\n",
              "      <td>2008-08-08</td>\n",
              "      <td>0</td>\n",
              "      <td>b\"Georgia 'downs two Russian warplanes' as cou...</td>\n",
              "      <td>b'BREAKING: Musharraf to be impeached.'</td>\n",
              "      <td>b'Russia Today: Columns of troops roll into So...</td>\n",
              "      <td>b'Russian tanks are moving towards the capital...</td>\n",
              "      <td>b\"Afghan children raped with 'impunity,' U.N. ...</td>\n",
              "      <td>b'150 Russian tanks have entered South Ossetia...</td>\n",
              "      <td>b\"Breaking: Georgia invades South Ossetia, Rus...</td>\n",
              "      <td>b\"The 'enemy combatent' trials are nothing but...</td>\n",
              "      <td>...</td>\n",
              "      <td>b'Visitors Suffering from Mental Illnesses Ban...</td>\n",
              "      <td>b\"No Help for Mexico's Kidnapping Surge\"</td>\n",
              "      <td>11432.089844</td>\n",
              "      <td>11759.959961</td>\n",
              "      <td>11388.040039</td>\n",
              "      <td>11734.320312</td>\n",
              "      <td>212830000</td>\n",
              "      <td>11734.320312</td>\n",
              "      <td>georgia russian airplan countri brink war brea...</td>\n",
              "      <td>georgia russian airplane country brink war bre...</td>\n",
              "    </tr>\n",
              "    <tr>\n",
              "      <th>1</th>\n",
              "      <td>2008-08-11</td>\n",
              "      <td>1</td>\n",
              "      <td>b'Why wont America and Nato help us? If they w...</td>\n",
              "      <td>b'Bush puts foot down on Georgian conflict'</td>\n",
              "      <td>b\"Jewish Georgian minister: Thanks to Israeli ...</td>\n",
              "      <td>b'Georgian army flees in disarray as Russians ...</td>\n",
              "      <td>b\"Olympic opening ceremony fireworks 'faked'\"</td>\n",
              "      <td>b'What were the Mossad with fraudulent New Zea...</td>\n",
              "      <td>b'Russia angered by Israeli military sale to G...</td>\n",
              "      <td>b'An American citizen living in S.Ossetia blam...</td>\n",
              "      <td>...</td>\n",
              "      <td>b'Russia is so much better at war'</td>\n",
              "      <td>b\"So this is what it's come to: trading sex fo...</td>\n",
              "      <td>11729.669922</td>\n",
              "      <td>11867.110352</td>\n",
              "      <td>11675.530273</td>\n",
              "      <td>11782.349609</td>\n",
              "      <td>183190000</td>\n",
              "      <td>11782.349609</td>\n",
              "      <td>america nato help help help iraq bush foot geo...</td>\n",
              "      <td>america nato help help help iraq bush foot geo...</td>\n",
              "    </tr>\n",
              "  </tbody>\n",
              "</table>\n",
              "<p>2 rows × 35 columns</p>\n",
              "</div>\n",
              "      <button class=\"colab-df-convert\" onclick=\"convertToInteractive('df-05642dcc-522a-4596-adce-9eaaf5f1c500')\"\n",
              "              title=\"Convert this dataframe to an interactive table.\"\n",
              "              style=\"display:none;\">\n",
              "        \n",
              "  <svg xmlns=\"http://www.w3.org/2000/svg\" height=\"24px\"viewBox=\"0 0 24 24\"\n",
              "       width=\"24px\">\n",
              "    <path d=\"M0 0h24v24H0V0z\" fill=\"none\"/>\n",
              "    <path d=\"M18.56 5.44l.94 2.06.94-2.06 2.06-.94-2.06-.94-.94-2.06-.94 2.06-2.06.94zm-11 1L8.5 8.5l.94-2.06 2.06-.94-2.06-.94L8.5 2.5l-.94 2.06-2.06.94zm10 10l.94 2.06.94-2.06 2.06-.94-2.06-.94-.94-2.06-.94 2.06-2.06.94z\"/><path d=\"M17.41 7.96l-1.37-1.37c-.4-.4-.92-.59-1.43-.59-.52 0-1.04.2-1.43.59L10.3 9.45l-7.72 7.72c-.78.78-.78 2.05 0 2.83L4 21.41c.39.39.9.59 1.41.59.51 0 1.02-.2 1.41-.59l7.78-7.78 2.81-2.81c.8-.78.8-2.07 0-2.86zM5.41 20L4 18.59l7.72-7.72 1.47 1.35L5.41 20z\"/>\n",
              "  </svg>\n",
              "      </button>\n",
              "      \n",
              "  <style>\n",
              "    .colab-df-container {\n",
              "      display:flex;\n",
              "      flex-wrap:wrap;\n",
              "      gap: 12px;\n",
              "    }\n",
              "\n",
              "    .colab-df-convert {\n",
              "      background-color: #E8F0FE;\n",
              "      border: none;\n",
              "      border-radius: 50%;\n",
              "      cursor: pointer;\n",
              "      display: none;\n",
              "      fill: #1967D2;\n",
              "      height: 32px;\n",
              "      padding: 0 0 0 0;\n",
              "      width: 32px;\n",
              "    }\n",
              "\n",
              "    .colab-df-convert:hover {\n",
              "      background-color: #E2EBFA;\n",
              "      box-shadow: 0px 1px 2px rgba(60, 64, 67, 0.3), 0px 1px 3px 1px rgba(60, 64, 67, 0.15);\n",
              "      fill: #174EA6;\n",
              "    }\n",
              "\n",
              "    [theme=dark] .colab-df-convert {\n",
              "      background-color: #3B4455;\n",
              "      fill: #D2E3FC;\n",
              "    }\n",
              "\n",
              "    [theme=dark] .colab-df-convert:hover {\n",
              "      background-color: #434B5C;\n",
              "      box-shadow: 0px 1px 3px 1px rgba(0, 0, 0, 0.15);\n",
              "      filter: drop-shadow(0px 1px 2px rgba(0, 0, 0, 0.3));\n",
              "      fill: #FFFFFF;\n",
              "    }\n",
              "  </style>\n",
              "\n",
              "      <script>\n",
              "        const buttonEl =\n",
              "          document.querySelector('#df-05642dcc-522a-4596-adce-9eaaf5f1c500 button.colab-df-convert');\n",
              "        buttonEl.style.display =\n",
              "          google.colab.kernel.accessAllowed ? 'block' : 'none';\n",
              "\n",
              "        async function convertToInteractive(key) {\n",
              "          const element = document.querySelector('#df-05642dcc-522a-4596-adce-9eaaf5f1c500');\n",
              "          const dataTable =\n",
              "            await google.colab.kernel.invokeFunction('convertToInteractive',\n",
              "                                                     [key], {});\n",
              "          if (!dataTable) return;\n",
              "\n",
              "          const docLinkHtml = 'Like what you see? Visit the ' +\n",
              "            '<a target=\"_blank\" href=https://colab.research.google.com/notebooks/data_table.ipynb>data table notebook</a>'\n",
              "            + ' to learn more about interactive tables.';\n",
              "          element.innerHTML = '';\n",
              "          dataTable['output_type'] = 'display_data';\n",
              "          await google.colab.output.renderOutput(dataTable, element);\n",
              "          const docLink = document.createElement('div');\n",
              "          docLink.innerHTML = docLinkHtml;\n",
              "          element.appendChild(docLink);\n",
              "        }\n",
              "      </script>\n",
              "    </div>\n",
              "  </div>\n",
              "  "
            ]
          },
          "metadata": {},
          "execution_count": 22
        }
      ],
      "source": [
        "data.head(2)"
      ]
    },
    {
      "cell_type": "code",
      "source": [
        "from google.colab import drive\n",
        "drive.mount('/content/drive')"
      ],
      "metadata": {
        "colab": {
          "base_uri": "https://localhost:8080/"
        },
        "id": "pZl-wRIIKjT7",
        "outputId": "2abc371a-31e9-457a-9e76-036599678823"
      },
      "execution_count": 23,
      "outputs": [
        {
          "output_type": "stream",
          "name": "stdout",
          "text": [
            "Mounted at /content/drive\n"
          ]
        }
      ]
    },
    {
      "cell_type": "code",
      "source": [
        "import numpy as np # linear algebra\n",
        "import keras\n",
        "from keras.preprocessing.text import Tokenizer\n",
        "#from keras.preprocessing.sequence import pad_sequences\n",
        "from keras.utils import pad_sequences\n",
        "from keras.utils import to_categorical\n",
        "from keras.layers import Dense, Input, Flatten, Dropout, Concatenate\n",
        "from keras.layers import Conv1D, MaxPooling1D, Embedding\n",
        "from keras.layers import LSTM, Bidirectional\n",
        "from keras.models import Model\n",
        "from keras.callbacks import EarlyStopping\n",
        "import gensim\n",
        "import nltk\n",
        "from nltk.tokenize import RegexpTokenizer\n",
        "import re\n",
        "import codecs"
      ],
      "metadata": {
        "id": "Otq3H_IFK0E5"
      },
      "execution_count": 24,
      "outputs": []
    },
    {
      "cell_type": "code",
      "source": [
        "\n",
        "EMBEDDING_DIM = 300 \n",
        "MAX_VOCAB_SIZE = 175303 \n",
        "MAX_SEQUENCE_LENGTH = 160 \n",
        "\n",
        "#training params\n",
        "batch_size = 64 \n",
        "num_epochs = 2"
      ],
      "metadata": {
        "id": "l3HAQuHeK0Hq"
      },
      "execution_count": 25,
      "outputs": []
    },
    {
      "cell_type": "code",
      "source": [
        "tokenizer = RegexpTokenizer(r'\\w+')"
      ],
      "metadata": {
        "id": "PtUFOuPMK0LG"
      },
      "execution_count": 26,
      "outputs": []
    },
    {
      "cell_type": "code",
      "source": [
        "data[\"tokens\"] = data[\"spellcheck\"].apply(tokenizer.tokenize)"
      ],
      "metadata": {
        "id": "7ANXHsakNK9-"
      },
      "execution_count": 27,
      "outputs": []
    },
    {
      "cell_type": "code",
      "source": [
        "training_word_list = [word for tokens in data[\"tokens\"] for word in tokens]\n",
        "training_sentence_lengths = [len(tokens) for tokens in data[\"tokens\"]]\n",
        "vocab_train = sorted(list(set(training_word_list)))\n",
        "print(\"%s words total, with a vocabulary size of %s\" % (len(training_word_list), len(vocab_train)))\n",
        "print(\"Max sentence length is %s\" % max(training_sentence_lengths))"
      ],
      "metadata": {
        "colab": {
          "base_uri": "https://localhost:8080/"
        },
        "id": "lhN4vdfyNLBC",
        "outputId": "a26c648f-2e7c-4561-9f00-3e189de49035"
      },
      "execution_count": 28,
      "outputs": [
        {
          "output_type": "stream",
          "name": "stdout",
          "text": [
            "390166 words total, with a vocabulary size of 13009\n",
            "Max sentence length is 302\n"
          ]
        }
      ]
    },
    {
      "cell_type": "code",
      "source": [
        "import numpy as np\n"
      ],
      "metadata": {
        "id": "fIfcxsuMNLD2"
      },
      "execution_count": 29,
      "outputs": []
    },
    {
      "cell_type": "code",
      "source": [
        "word2vec_path = \"/content/drive/MyDrive/GoogleNews-vectors-negative300.bin\"\n",
        "word2vec = gensim.models.KeyedVectors.load_word2vec_format(word2vec_path, binary=True)"
      ],
      "metadata": {
        "id": "uXTdQFVISNeq"
      },
      "execution_count": 30,
      "outputs": []
    },
    {
      "cell_type": "code",
      "source": [
        "def get_average_word2vec(tokens_list, vector, generate_missing=False, k=300):\n",
        "    if len(tokens_list)<1:\n",
        "        return np.zeros(k)\n",
        "    if generate_missing:\n",
        "        vectorized = [vector[word] if word in vector else np.random.rand(k) for word in tokens_list]\n",
        "    else:\n",
        "        vectorized = [vector[word] if word in vector else np.zeros(k) for word in tokens_list]\n",
        "    length = len(vectorized)\n",
        "    summed = np.sum(vectorized, axis=0)\n",
        "    averaged = np.divide(summed, length)\n",
        "    return averaged\n",
        "\n",
        "def get_word2vec_embeddings(vectors, clean_message, generate_missing=False):\n",
        "    embeddings = clean_message['tokens'].apply(lambda x: get_average_word2vec(x, vectors, \n",
        "                                                                                generate_missing=generate_missing))\n",
        "    return list(embeddings)"
      ],
      "metadata": {
        "id": "8-YrbCWXSNiO"
      },
      "execution_count": 31,
      "outputs": []
    },
    {
      "cell_type": "code",
      "source": [
        "training_embeddings = get_word2vec_embeddings(word2vec, data, generate_missing=True)"
      ],
      "metadata": {
        "id": "jgKigQo1NLGo"
      },
      "execution_count": 32,
      "outputs": []
    },
    {
      "cell_type": "code",
      "source": [
        "\n",
        "tokenizer = Tokenizer(num_words=MAX_VOCAB_SIZE, lower=True, char_level=False)\n",
        "tokenizer.fit_on_texts(data[\"cleaned_data\"].tolist())\n",
        "training_sequences = tokenizer.texts_to_sequences(data[\"cleaned_data\"].tolist())\n",
        "\n",
        "train_word_index = tokenizer.word_index\n",
        "print('Found %s unique tokens.' % len(train_word_index))\n",
        "\n",
        "train_cnn_data = pad_sequences(training_sequences, maxlen=MAX_SEQUENCE_LENGTH)\n",
        "\n",
        "train_embedding_weights = np.zeros((len(train_word_index)+1, EMBEDDING_DIM))\n",
        "for word,index in train_word_index.items():\n",
        "    train_embedding_weights[index,:] = word2vec[word] if word in word2vec else np.random.rand(EMBEDDING_DIM)\n",
        "print(train_embedding_weights.shape)"
      ],
      "metadata": {
        "colab": {
          "base_uri": "https://localhost:8080/"
        },
        "id": "2uYoFrRqNLJl",
        "outputId": "99da4f3f-c9ee-4681-db34-d27cf1f4f9e4"
      },
      "execution_count": 33,
      "outputs": [
        {
          "output_type": "stream",
          "name": "stdout",
          "text": [
            "Found 14506 unique tokens.\n",
            "(14507, 300)\n"
          ]
        }
      ]
    },
    {
      "cell_type": "code",
      "source": [
        "train_embedding_weights"
      ],
      "metadata": {
        "colab": {
          "base_uri": "https://localhost:8080/"
        },
        "id": "_vuEMbEqNLMx",
        "outputId": "e11d3bf3-0238-4b4a-cc52-de002e9fd222"
      },
      "execution_count": 34,
      "outputs": [
        {
          "output_type": "execute_result",
          "data": {
            "text/plain": [
              "array([[ 0.        ,  0.        ,  0.        , ...,  0.        ,\n",
              "         0.        ,  0.        ],\n",
              "       [ 0.06176758,  0.2578125 ,  0.00367737, ...,  0.11181641,\n",
              "         0.07275391, -0.17480469],\n",
              "       [ 0.00836182,  0.08398438,  0.21582031, ..., -0.11132812,\n",
              "         0.01251221, -0.00198364],\n",
              "       ...,\n",
              "       [ 0.20210002,  0.62828625,  0.89932235, ...,  0.81673065,\n",
              "         0.2879727 ,  0.16295977],\n",
              "       [ 0.69282588,  0.71613383,  0.8530261 , ...,  0.37786686,\n",
              "         0.60796373,  0.97234149],\n",
              "       [-0.07275391, -0.00271606,  0.02075195, ...,  0.02648926,\n",
              "        -0.02441406,  0.05078125]])"
            ]
          },
          "metadata": {},
          "execution_count": 34
        }
      ]
    },
    {
      "cell_type": "code",
      "source": [],
      "metadata": {
        "id": "kj9kslm1uZ95"
      },
      "execution_count": 50,
      "outputs": []
    },
    {
      "cell_type": "code",
      "source": [
        "train_cnn_data.shape"
      ],
      "metadata": {
        "colab": {
          "base_uri": "https://localhost:8080/"
        },
        "id": "7u3tQw3boBir",
        "outputId": "523e2f9a-f2ca-4e18-f0be-3347a4105ae2"
      },
      "execution_count": 50,
      "outputs": [
        {
          "output_type": "execute_result",
          "data": {
            "text/plain": [
              "(1989, 160)"
            ]
          },
          "metadata": {},
          "execution_count": 50
        }
      ]
    },
    {
      "cell_type": "code",
      "source": [
        "df_train = train_cnn_data"
      ],
      "metadata": {
        "id": "Dhtjs_wvoBly"
      },
      "execution_count": 45,
      "outputs": []
    },
    {
      "cell_type": "code",
      "source": [
        "y_tr = data.Close.values"
      ],
      "metadata": {
        "id": "6oBMGp16oBox"
      },
      "execution_count": 46,
      "outputs": []
    },
    {
      "cell_type": "code",
      "source": [
        "\n",
        "early_stopping = EarlyStopping(monitor='val_loss', min_delta=0.01, patience=4, verbose=1)\n",
        "callbacks_list = [early_stopping]"
      ],
      "metadata": {
        "id": "WeLillBWqF1C"
      },
      "execution_count": 48,
      "outputs": []
    },
    {
      "cell_type": "code",
      "source": [
        "hist = model.fit(df_train, y_tr, epochs=num_epochs, callbacks=callbacks_list, validation_split=0.1, shuffle=True, batch_size=batch_size)"
      ],
      "metadata": {
        "colab": {
          "base_uri": "https://localhost:8080/"
        },
        "id": "R18Wzr6UqF4W",
        "outputId": "613d88cd-0587-4e3d-d7ce-c6cc172579a2"
      },
      "execution_count": 49,
      "outputs": [
        {
          "output_type": "stream",
          "name": "stdout",
          "text": [
            "Epoch 1/2\n",
            "28/28 [==============================] - 115s 4s/step - loss: nan - mae: nan - val_loss: nan - val_mae: nan\n",
            "Epoch 2/2\n",
            "28/28 [==============================] - 108s 4s/step - loss: nan - mae: nan - val_loss: nan - val_mae: nan\n"
          ]
        }
      ]
    },
    {
      "cell_type": "code",
      "source": [],
      "metadata": {
        "id": "2f5InHg3qYKc"
      },
      "execution_count": null,
      "outputs": []
    },
    {
      "cell_type": "code",
      "source": [],
      "metadata": {
        "id": "LbMvHnENqYNh"
      },
      "execution_count": null,
      "outputs": []
    },
    {
      "cell_type": "code",
      "source": [],
      "metadata": {
        "id": "GfPZlx6dqYS-"
      },
      "execution_count": null,
      "outputs": []
    },
    {
      "cell_type": "code",
      "source": [],
      "metadata": {
        "id": "9Uuqcu7LqYVi"
      },
      "execution_count": null,
      "outputs": []
    },
    {
      "cell_type": "code",
      "source": [],
      "metadata": {
        "id": "K_g5VGsYqYYM"
      },
      "execution_count": null,
      "outputs": []
    },
    {
      "cell_type": "code",
      "execution_count": 22,
      "metadata": {
        "id": "7KS1j60_DtfV"
      },
      "outputs": [],
      "source": [
        "data1_new = data.set_index('Date')"
      ]
    },
    {
      "cell_type": "code",
      "source": [],
      "metadata": {
        "id": "P90QkGHBulwH"
      },
      "execution_count": null,
      "outputs": []
    },
    {
      "cell_type": "code",
      "source": [
        "X = train_cnn_data\n",
        "y = data.Close.values"
      ],
      "metadata": {
        "id": "31_bVtNculyw"
      },
      "execution_count": 77,
      "outputs": []
    },
    {
      "cell_type": "code",
      "source": [
        "X.shape"
      ],
      "metadata": {
        "colab": {
          "base_uri": "https://localhost:8080/"
        },
        "id": "oaU0G2SRvheT",
        "outputId": "26940fd6-4cea-4533-a63d-26022fd83ad5"
      },
      "execution_count": 78,
      "outputs": [
        {
          "output_type": "execute_result",
          "data": {
            "text/plain": [
              "(1989, 160)"
            ]
          },
          "metadata": {},
          "execution_count": 78
        }
      ]
    },
    {
      "cell_type": "code",
      "source": [
        "y.shape"
      ],
      "metadata": {
        "colab": {
          "base_uri": "https://localhost:8080/"
        },
        "id": "4RsxxNQzwfa8",
        "outputId": "e6d20f2f-7e71-4bf6-f390-3d9f42364416"
      },
      "execution_count": 79,
      "outputs": [
        {
          "output_type": "execute_result",
          "data": {
            "text/plain": [
              "(1989,)"
            ]
          },
          "metadata": {},
          "execution_count": 79
        }
      ]
    },
    {
      "cell_type": "code",
      "source": [
        "len(X)"
      ],
      "metadata": {
        "colab": {
          "base_uri": "https://localhost:8080/"
        },
        "id": "wvbsGspbul1s",
        "outputId": "0cc27132-d981-4e1c-e399-c2cfda73be38"
      },
      "execution_count": 80,
      "outputs": [
        {
          "output_type": "execute_result",
          "data": {
            "text/plain": [
              "1989"
            ]
          },
          "metadata": {},
          "execution_count": 80
        }
      ]
    },
    {
      "cell_type": "code",
      "source": [
        "len(y)"
      ],
      "metadata": {
        "colab": {
          "base_uri": "https://localhost:8080/"
        },
        "id": "krPHesx9u065",
        "outputId": "f406bf71-7629-460c-98b5-58f4ffaeff83"
      },
      "execution_count": 81,
      "outputs": [
        {
          "output_type": "execute_result",
          "data": {
            "text/plain": [
              "1989"
            ]
          },
          "metadata": {},
          "execution_count": 81
        }
      ]
    },
    {
      "cell_type": "code",
      "source": [
        "## feature matrix\n",
        "X_feature = [np.asarray(X, dtype='int32')]"
      ],
      "metadata": {
        "id": "WGWiQtw1dB_F"
      },
      "execution_count": 82,
      "outputs": []
    },
    {
      "cell_type": "code",
      "source": [
        "y_feature = [np.asarray(y, dtype='int32')]"
      ],
      "metadata": {
        "id": "owPGOmmrv9F3"
      },
      "execution_count": 83,
      "outputs": []
    },
    {
      "cell_type": "code",
      "source": [
        "## bert tokenizer\n",
        "tokenizer = transformers.BertTokenizer.from_pretrained('bert-base-uncased', do_lower_case=True)"
      ],
      "metadata": {
        "id": "O09x18Z_dEXn"
      },
      "execution_count": 84,
      "outputs": []
    },
    {
      "cell_type": "code",
      "source": [
        "## bert model\n",
        "nlp = transformers.TFBertModel.from_pretrained('bert-base-uncased')"
      ],
      "metadata": {
        "colab": {
          "base_uri": "https://localhost:8080/"
        },
        "id": "2dPA0qQbdF3O",
        "outputId": "8fe47985-6e91-4aa4-935e-ab8f9e692e61"
      },
      "execution_count": 85,
      "outputs": [
        {
          "output_type": "stream",
          "name": "stderr",
          "text": [
            "Some layers from the model checkpoint at bert-base-uncased were not used when initializing TFBertModel: ['mlm___cls', 'nsp___cls']\n",
            "- This IS expected if you are initializing TFBertModel from the checkpoint of a model trained on another task or with another architecture (e.g. initializing a BertForSequenceClassification model from a BertForPreTraining model).\n",
            "- This IS NOT expected if you are initializing TFBertModel from the checkpoint of a model that you expect to be exactly identical (initializing a BertForSequenceClassification model from a BertForSequenceClassification model).\n",
            "All the layers of TFBertModel were initialized from the model checkpoint at bert-base-uncased.\n",
            "If your task is similar to the task the model of the checkpoint was trained on, you can already use TFBertModel for predictions without further training.\n"
          ]
        }
      ]
    },
    {
      "cell_type": "code",
      "source": [
        "## pre-trained bert with config\n",
        "config = transformers.DistilBertConfig(dropout=0.2, \n",
        "           attention_dropout=0.2)\n",
        "config.output_hidden_states = False"
      ],
      "metadata": {
        "id": "r5GbdDL5dHHE"
      },
      "execution_count": 86,
      "outputs": []
    },
    {
      "cell_type": "code",
      "source": [
        "nlp = transformers.TFDistilBertModel.from_pretrained('distilbert-base-uncased',config = config)"
      ],
      "metadata": {
        "colab": {
          "base_uri": "https://localhost:8080/"
        },
        "id": "nUSrhEvHdJTw",
        "outputId": "576772b1-5e4d-4e51-f53a-7482ca6ded03"
      },
      "execution_count": 87,
      "outputs": [
        {
          "output_type": "stream",
          "name": "stderr",
          "text": [
            "Some layers from the model checkpoint at distilbert-base-uncased were not used when initializing TFDistilBertModel: ['vocab_transform', 'activation_13', 'vocab_projector', 'vocab_layer_norm']\n",
            "- This IS expected if you are initializing TFDistilBertModel from the checkpoint of a model trained on another task or with another architecture (e.g. initializing a BertForSequenceClassification model from a BertForPreTraining model).\n",
            "- This IS NOT expected if you are initializing TFDistilBertModel from the checkpoint of a model that you expect to be exactly identical (initializing a BertForSequenceClassification model from a BertForSequenceClassification model).\n",
            "All the layers of TFDistilBertModel were initialized from the model checkpoint at distilbert-base-uncased.\n",
            "If your task is similar to the task the model of the checkpoint was trained on, you can already use TFDistilBertModel for predictions without further training.\n"
          ]
        }
      ]
    },
    {
      "cell_type": "code",
      "source": [
        "## pre-trained bert\n",
        "nlp = transformers.TFBertModel.from_pretrained(\"bert-base-uncased\")"
      ],
      "metadata": {
        "colab": {
          "base_uri": "https://localhost:8080/"
        },
        "id": "j-d6i2rzdKtS",
        "outputId": "35bf12de-6ff2-4d9e-84d8-b8fafa6b4f43"
      },
      "execution_count": 88,
      "outputs": [
        {
          "output_type": "stream",
          "name": "stderr",
          "text": [
            "Some layers from the model checkpoint at bert-base-uncased were not used when initializing TFBertModel: ['mlm___cls', 'nsp___cls']\n",
            "- This IS expected if you are initializing TFBertModel from the checkpoint of a model trained on another task or with another architecture (e.g. initializing a BertForSequenceClassification model from a BertForPreTraining model).\n",
            "- This IS NOT expected if you are initializing TFBertModel from the checkpoint of a model that you expect to be exactly identical (initializing a BertForSequenceClassification model from a BertForSequenceClassification model).\n",
            "All the layers of TFBertModel were initialized from the model checkpoint at bert-base-uncased.\n",
            "If your task is similar to the task the model of the checkpoint was trained on, you can already use TFBertModel for predictions without further training.\n"
          ]
        }
      ]
    },
    {
      "cell_type": "code",
      "source": [
        "price_data = layers.Input((160),dtype=\"int32\", name=\"input_price_data\")"
      ],
      "metadata": {
        "id": "4nngr1A3dM-J"
      },
      "execution_count": 89,
      "outputs": []
    },
    {
      "cell_type": "code",
      "source": [
        "bert_out = nlp([price_data])"
      ],
      "metadata": {
        "id": "2cq3sz-YdOLq"
      },
      "execution_count": 90,
      "outputs": []
    },
    {
      "cell_type": "code",
      "source": [
        "callbacks = [keras.callbacks.EarlyStopping(patience=10, restore_best_weights=True)]"
      ],
      "metadata": {
        "id": "e3I_kgj2dPWV"
      },
      "execution_count": 91,
      "outputs": []
    },
    {
      "cell_type": "code",
      "source": [
        "bert_out[0][0]\n"
      ],
      "metadata": {
        "colab": {
          "base_uri": "https://localhost:8080/"
        },
        "id": "X9LzdrbEdQvb",
        "outputId": "3f1a988b-61c2-47f9-cb4f-1aae2cc70df0"
      },
      "execution_count": 92,
      "outputs": [
        {
          "output_type": "execute_result",
          "data": {
            "text/plain": [
              "<KerasTensor: shape=(160, 768) dtype=float32 (created by layer 'tf.__operators__.getitem_1')>"
            ]
          },
          "metadata": {},
          "execution_count": 92
        }
      ]
    },
    {
      "cell_type": "code",
      "source": [
        "## pre-trained bert with config\n",
        "config = transformers.BertConfig(dropout=0.2, \n",
        "           attention_dropout=0.2)\n",
        "config.output_hidden_states = False"
      ],
      "metadata": {
        "id": "OOPK7p32dR8w"
      },
      "execution_count": 93,
      "outputs": []
    },
    {
      "cell_type": "code",
      "source": [
        "## fine-tuning\n",
        "x = layers.GlobalAveragePooling1D()(bert_out[0])\n",
        "x = layers.Dense(4096, activation=\"relu\")(x)\n",
        "x = layers.Dense(4096, activation=\"relu\")(x)\n",
        "x = layers.Dense(4096, activation=\"relu\")(x)\n",
        "x = layers.Dense(4096, activation=\"relu\")(x)\n",
        "x = layers.Dense(4096, activation=\"relu\")(x)\n",
        "x = layers.Dense(4096, activation=\"relu\")(x)\n",
        "x = layers.Dense(4096, activation=\"relu\")(x)\n",
        "x = layers.Dense(4096, activation=\"relu\")(x)\n",
        "y_out = layers.Dense(1)(x)"
      ],
      "metadata": {
        "id": "w_wSevpHdTPK"
      },
      "execution_count": 94,
      "outputs": []
    },
    {
      "cell_type": "code",
      "source": [
        "## compile\n",
        "model_1 = models.Model([ price_data], y_out)\n"
      ],
      "metadata": {
        "id": "76JtANCmdUmQ"
      },
      "execution_count": 95,
      "outputs": []
    },
    {
      "cell_type": "code",
      "source": [
        "model_1.compile(loss=keras.losses.mae,\n",
        "                    optimizer=keras.optimizers.Adam(learning_rate = 0.00001), \n",
        "                    metrics=['mae'])"
      ],
      "metadata": {
        "id": "VbXyq-rtdV_M"
      },
      "execution_count": 96,
      "outputs": []
    },
    {
      "cell_type": "code",
      "source": [
        "model_1.summary()"
      ],
      "metadata": {
        "colab": {
          "base_uri": "https://localhost:8080/"
        },
        "id": "irvT-qa0dXHz",
        "outputId": "a99e7336-a0f7-4775-ef26-b23ee7499af4"
      },
      "execution_count": 97,
      "outputs": [
        {
          "output_type": "stream",
          "name": "stdout",
          "text": [
            "Model: \"model_3\"\n",
            "_________________________________________________________________\n",
            " Layer (type)                Output Shape              Param #   \n",
            "=================================================================\n",
            " input_price_data (InputLaye  [(None, 160)]            0         \n",
            " r)                                                              \n",
            "                                                                 \n",
            " tf_bert_model_3 (TFBertMode  TFBaseModelOutputWithPoo  109482240\n",
            " l)                          lingAndCrossAttentions(l            \n",
            "                             ast_hidden_state=(None,             \n",
            "                             160, 768),                          \n",
            "                              pooler_output=(None, 76            \n",
            "                             8),                                 \n",
            "                              past_key_values=None, h            \n",
            "                             idden_states=None, atten            \n",
            "                             tions=None, cross_attent            \n",
            "                             ions=None)                          \n",
            "                                                                 \n",
            " global_average_pooling1d_1   (None, 768)              0         \n",
            " (GlobalAveragePooling1D)                                        \n",
            "                                                                 \n",
            " dense_13 (Dense)            (None, 4096)              3149824   \n",
            "                                                                 \n",
            " dense_14 (Dense)            (None, 4096)              16781312  \n",
            "                                                                 \n",
            " dense_15 (Dense)            (None, 4096)              16781312  \n",
            "                                                                 \n",
            " dense_16 (Dense)            (None, 4096)              16781312  \n",
            "                                                                 \n",
            " dense_17 (Dense)            (None, 4096)              16781312  \n",
            "                                                                 \n",
            " dense_18 (Dense)            (None, 4096)              16781312  \n",
            "                                                                 \n",
            " dense_19 (Dense)            (None, 4096)              16781312  \n",
            "                                                                 \n",
            " dense_20 (Dense)            (None, 4096)              16781312  \n",
            "                                                                 \n",
            " dense_21 (Dense)            (None, 1)                 4097      \n",
            "                                                                 \n",
            "=================================================================\n",
            "Total params: 230,105,345\n",
            "Trainable params: 230,105,345\n",
            "Non-trainable params: 0\n",
            "_________________________________________________________________\n"
          ]
        }
      ]
    },
    {
      "cell_type": "code",
      "source": [
        "## train\n",
        "training = model_1.fit(X_feature, y_feature, batch_size= 32, epochs=1028, shuffle=True,callbacks=callbacks, verbose=1,validation_split = 0.1)"
      ],
      "metadata": {
        "colab": {
          "base_uri": "https://localhost:8080/"
        },
        "id": "cHOD0sS0dYOa",
        "outputId": "910772d5-c2c1-4f83-eaba-94cd3e4f9cc8"
      },
      "execution_count": null,
      "outputs": [
        {
          "output_type": "stream",
          "name": "stdout",
          "text": [
            "Epoch 1/1028\n"
          ]
        }
      ]
    },
    {
      "cell_type": "code",
      "source": [
        "model_1.evaluate(X_feature_new_1 ,y_test)"
      ],
      "metadata": {
        "colab": {
          "base_uri": "https://localhost:8080/"
        },
        "id": "ox-CjSjOdZV8",
        "outputId": "5f9ec889-cef8-4840-c783-bc58f3cb8d04"
      },
      "execution_count": 73,
      "outputs": [
        {
          "output_type": "stream",
          "name": "stdout",
          "text": [
            "13/13 [==============================] - 3s 48ms/step - loss: 1709.9230 - mae: 1709.9230\n"
          ]
        },
        {
          "output_type": "execute_result",
          "data": {
            "text/plain": [
              "[1709.9229736328125, 1709.9229736328125]"
            ]
          },
          "metadata": {},
          "execution_count": 73
        }
      ]
    },
    {
      "cell_type": "code",
      "source": [
        "## train\n",
        "training_1 = model_1.fit(x_train, y_train, batch_size= 8, epochs=1028, shuffle=True,callbacks=callbacks, verbose=1,validation_split = 0.1)"
      ],
      "metadata": {
        "id": "ifeIHr8OdapL",
        "colab": {
          "base_uri": "https://localhost:8080/"
        },
        "outputId": "193a367e-3201-44f2-b786-8868f297ff9b"
      },
      "execution_count": 74,
      "outputs": [
        {
          "output_type": "stream",
          "name": "stdout",
          "text": [
            "Epoch 1/1028\n",
            "179/179 [==============================] - 23s 126ms/step - loss: 1058.9312 - mae: 1058.9312 - val_loss: 2611.0369 - val_mae: 2611.0369\n",
            "Epoch 2/1028\n",
            "179/179 [==============================] - 17s 97ms/step - loss: 745.9571 - mae: 745.9571 - val_loss: 1024.2552 - val_mae: 1024.2552\n",
            "Epoch 3/1028\n",
            "179/179 [==============================] - 17s 97ms/step - loss: 547.2528 - mae: 547.2528 - val_loss: 2217.2356 - val_mae: 2217.2356\n",
            "Epoch 4/1028\n",
            "179/179 [==============================] - 17s 96ms/step - loss: 527.2429 - mae: 527.2429 - val_loss: 1432.6025 - val_mae: 1432.6025\n",
            "Epoch 5/1028\n",
            "179/179 [==============================] - 16s 92ms/step - loss: 434.8275 - mae: 434.8275 - val_loss: 1767.8970 - val_mae: 1767.8970\n",
            "Epoch 6/1028\n",
            "179/179 [==============================] - 17s 93ms/step - loss: 449.9614 - mae: 449.9614 - val_loss: 1663.7142 - val_mae: 1663.7142\n",
            "Epoch 7/1028\n",
            "179/179 [==============================] - 17s 97ms/step - loss: 382.0664 - mae: 382.0664 - val_loss: 2009.2155 - val_mae: 2009.2155\n",
            "Epoch 8/1028\n",
            "179/179 [==============================] - 17s 93ms/step - loss: 366.4093 - mae: 366.4093 - val_loss: 1277.4821 - val_mae: 1277.4821\n",
            "Epoch 9/1028\n",
            "179/179 [==============================] - 17s 93ms/step - loss: 329.3669 - mae: 329.3669 - val_loss: 2555.5081 - val_mae: 2555.5081\n",
            "Epoch 10/1028\n",
            "179/179 [==============================] - 17s 93ms/step - loss: 316.4167 - mae: 316.4167 - val_loss: 1797.6549 - val_mae: 1797.6549\n",
            "Epoch 11/1028\n",
            "179/179 [==============================] - 17s 97ms/step - loss: 290.7964 - mae: 290.7964 - val_loss: 1888.9794 - val_mae: 1888.9794\n",
            "Epoch 12/1028\n",
            "179/179 [==============================] - 18s 100ms/step - loss: 294.0907 - mae: 294.0907 - val_loss: 2276.5798 - val_mae: 2276.5798\n"
          ]
        }
      ]
    },
    {
      "cell_type": "code",
      "source": [
        "#model_1.evaluate(X_feature_new_1,y_test)"
      ],
      "metadata": {
        "id": "gAai_E1AMcfV"
      },
      "execution_count": 236,
      "outputs": []
    },
    {
      "cell_type": "code",
      "source": [
        "model_history = pd.DataFrame(training_1.history)\n",
        "model_history['epoch'] = training_1.epoch\n",
        "\n",
        "fig, ax = plt.subplots(2,1, figsize=(10,4))\n",
        "num_epochs = model_history.shape[0]\n",
        "num_epochs = model_history.shape[0]\n",
        "\n",
        "ax[0].plot(np.arange(0, num_epochs), model_history[\"mae\"], \n",
        "        label=\"training mae\")\n",
        "ax[1].plot(np.arange(0, num_epochs), model_history[\"val_mae\"], \n",
        "        label=\"testing mae\")\n",
        "\n",
        "\n",
        "\n",
        "ax[0].set_ylabel('training_mae')\n",
        "ax[0].set_xlabel('epochs')\n",
        "ax[1].set_ylabel('testing_mae')\n",
        "ax[1].set_xlabel('epochs')\n",
        "ax[0].legend()\n",
        "ax[1].legend()\n",
        "\n",
        "plt.tight_layout()\n",
        "plt.show()"
      ],
      "metadata": {
        "colab": {
          "base_uri": "https://localhost:8080/",
          "height": 355
        },
        "id": "GQG6sEEAOXTX",
        "outputId": "22b2679c-6da0-4714-a571-0123260cebc4"
      },
      "execution_count": 75,
      "outputs": [
        {
          "output_type": "display_data",
          "data": {
            "text/plain": [
              "<Figure size 1000x400 with 2 Axes>"
            ],
            "image/png": "[encoded data removed]"
          },
          "metadata": {}
        }
      ]
    },
    {
      "cell_type": "code",
      "source": [
        "## fine-tuning\n",
        "x = layers.GlobalAveragePooling1D()(bert_out[0])\n",
        "x = layers.Dense(2048, activation=\"relu\")(x)\n",
        "x = layers.Dense(2048, activation=\"relu\")(x)\n",
        "x = layers.Dense(2048, activation=\"relu\")(x)\n",
        "x = layers.Dense(2048, activation=\"relu\")(x)\n",
        "x = layers.Dense(2048, activation=\"relu\")(x)\n",
        "x = layers.Dense(2048, activation=\"relu\")(x)\n",
        "x = layers.Dense(2048, activation=\"relu\")(x)\n",
        "x = layers.Dense(2048, activation=\"relu\")(x)\n",
        "x = layers.Dense(2048, activation=\"relu\")(x)\n",
        "x = layers.Dense(2048, activation=\"relu\")(x)\n",
        "y_out = layers.Dense(1)(x)\n",
        "\n",
        "## compile\n",
        "model_1 = models.Model([ price_data], y_out)\n",
        "\n",
        "model_1.compile(loss=keras.losses.mae,\n",
        "                    optimizer=keras.optimizers.Adam(learning_rate = 0.00001), \n",
        "                    metrics=['mae'])\n",
        "\n",
        "## train\n",
        "training_2 = model_1.fit(x_train, y_train, batch_size= 8, epochs=1028, shuffle=True,callbacks=callbacks, verbose=1,validation_split = 0.1)\n"
      ],
      "metadata": {
        "colab": {
          "base_uri": "https://localhost:8080/"
        },
        "id": "2GX90faYP86q",
        "outputId": "93d0c24a-b43f-48ed-8071-d9d553abe3fc"
      },
      "execution_count": 77,
      "outputs": [
        {
          "output_type": "stream",
          "name": "stdout",
          "text": [
            "Epoch 1/1028\n"
          ]
        },
        {
          "output_type": "stream",
          "name": "stderr",
          "text": [
            "WARNING:tensorflow:Gradients do not exist for variables ['tf_bert_model_1/bert/pooler/dense/kernel:0', 'tf_bert_model_1/bert/pooler/dense/bias:0'] when minimizing the loss. If you're using `model.compile()`, did you forget to provide a `loss` argument?\n",
            "WARNING:tensorflow:Gradients do not exist for variables ['tf_bert_model_1/bert/pooler/dense/kernel:0', 'tf_bert_model_1/bert/pooler/dense/bias:0'] when minimizing the loss. If you're using `model.compile()`, did you forget to provide a `loss` argument?\n",
            "WARNING:tensorflow:Gradients do not exist for variables ['tf_bert_model_1/bert/pooler/dense/kernel:0', 'tf_bert_model_1/bert/pooler/dense/bias:0'] when minimizing the loss. If you're using `model.compile()`, did you forget to provide a `loss` argument?\n",
            "WARNING:tensorflow:Gradients do not exist for variables ['tf_bert_model_1/bert/pooler/dense/kernel:0', 'tf_bert_model_1/bert/pooler/dense/bias:0'] when minimizing the loss. If you're using `model.compile()`, did you forget to provide a `loss` argument?\n"
          ]
        },
        {
          "output_type": "stream",
          "name": "stdout",
          "text": [
            "179/179 [==============================] - 71s 117ms/step - loss: 6977.2568 - mae: 6977.2568 - val_loss: 5051.0796 - val_mae: 5051.0796\n",
            "Epoch 2/1028\n",
            "179/179 [==============================] - 18s 102ms/step - loss: 1084.6046 - mae: 1084.6046 - val_loss: 1582.8521 - val_mae: 1582.8521\n",
            "Epoch 3/1028\n",
            "179/179 [==============================] - 15s 81ms/step - loss: 548.2230 - mae: 548.2230 - val_loss: 2221.8123 - val_mae: 2221.8123\n",
            "Epoch 4/1028\n",
            "179/179 [==============================] - 15s 81ms/step - loss: 484.3939 - mae: 484.3939 - val_loss: 2710.8730 - val_mae: 2710.8730\n",
            "Epoch 5/1028\n",
            "179/179 [==============================] - 14s 80ms/step - loss: 470.9146 - mae: 470.9146 - val_loss: 2648.1326 - val_mae: 2648.1326\n",
            "Epoch 6/1028\n",
            "179/179 [==============================] - 15s 81ms/step - loss: 372.6527 - mae: 372.6527 - val_loss: 2171.5649 - val_mae: 2171.5649\n",
            "Epoch 7/1028\n",
            "179/179 [==============================] - 14s 81ms/step - loss: 369.2397 - mae: 369.2397 - val_loss: 2260.3835 - val_mae: 2260.3835\n",
            "Epoch 8/1028\n",
            "179/179 [==============================] - 14s 81ms/step - loss: 403.1899 - mae: 403.1899 - val_loss: 2723.2756 - val_mae: 2723.2756\n",
            "Epoch 9/1028\n",
            "179/179 [==============================] - 14s 80ms/step - loss: 300.2106 - mae: 300.2106 - val_loss: 2039.5103 - val_mae: 2039.5103\n",
            "Epoch 10/1028\n",
            "179/179 [==============================] - 14s 81ms/step - loss: 313.6681 - mae: 313.6681 - val_loss: 2561.7051 - val_mae: 2561.7051\n",
            "Epoch 11/1028\n",
            "179/179 [==============================] - 15s 82ms/step - loss: 286.3213 - mae: 286.3213 - val_loss: 2338.1851 - val_mae: 2338.1851\n",
            "Epoch 12/1028\n",
            "179/179 [==============================] - 16s 87ms/step - loss: 249.0204 - mae: 249.0204 - val_loss: 2310.9746 - val_mae: 2310.9746\n"
          ]
        }
      ]
    },
    {
      "cell_type": "code",
      "source": [
        "model_history = pd.DataFrame(training_2.history)\n",
        "model_history['epoch'] = training_2.epoch\n",
        "\n",
        "fig, ax = plt.subplots(2,1, figsize=(10,4))\n",
        "num_epochs = model_history.shape[0]\n",
        "num_epochs = model_history.shape[0]\n",
        "\n",
        "ax[0].plot(np.arange(0, num_epochs), model_history[\"mae\"], \n",
        "        label=\"training mae\")\n",
        "ax[1].plot(np.arange(0, num_epochs), model_history[\"val_mae\"], \n",
        "        label=\"testing mae\")\n",
        "\n",
        "\n",
        "\n",
        "ax[0].set_ylabel('training_mae')\n",
        "ax[0].set_xlabel('epochs')\n",
        "ax[1].set_ylabel('testing_mae')\n",
        "ax[1].set_xlabel('epochs')\n",
        "ax[0].legend()\n",
        "ax[1].legend()\n",
        "\n",
        "plt.tight_layout()\n",
        "plt.show()"
      ],
      "metadata": {
        "colab": {
          "base_uri": "https://localhost:8080/",
          "height": 355
        },
        "id": "pDb_dDe2ezru",
        "outputId": "bc173e6a-3a47-4021-c4df-5113f8eb68cc"
      },
      "execution_count": 78,
      "outputs": [
        {
          "output_type": "display_data",
          "data": {
            "text/plain": [
              "<Figure size 1000x400 with 2 Axes>"
            ],
            "image/png": "[encoded data removed]"
          },
          "metadata": {}
        }
      ]
    },
    {
      "cell_type": "code",
      "source": [
        "## fine-tuning\n",
        "x = layers.GlobalAveragePooling1D()(bert_out[0])\n",
        "x = layers.Dense(1024, activation=\"relu\")(x)\n",
        "x = layers.Dense(1024, activation=\"relu\")(x)\n",
        "x = layers.Dense(1024, activation=\"relu\")(x)\n",
        "x = layers.Dense(1024, activation=\"relu\")(x)\n",
        "x = layers.Dense(1024, activation=\"relu\")(x)\n",
        "x = layers.Dense(1024, activation=\"relu\")(x)\n",
        "x = layers.Dense(1024, activation=\"relu\")(x)\n",
        "x = layers.Dense(1024, activation=\"relu\")(x)\n",
        "x = layers.Dense(1024, activation=\"relu\")(x)\n",
        "x = layers.Dense(1024, activation=\"relu\")(x)\n",
        "y_out = layers.Dense(1)(x)\n",
        "\n",
        "## compile\n",
        "model_1 = models.Model([ price_data], y_out)\n",
        "\n",
        "model_1.compile(loss=keras.losses.mae,\n",
        "                    optimizer=keras.optimizers.Adam(learning_rate = 0.00001), \n",
        "                    metrics=['mae'])\n",
        "\n",
        "## train\n",
        "training_3 = model_1.fit(x_train, y_train, batch_size= 8, epochs=1028, shuffle=True,callbacks=callbacks, verbose=1,validation_split = 0.1)\n"
      ],
      "metadata": {
        "colab": {
          "base_uri": "https://localhost:8080/"
        },
        "id": "9hBKjT1ggIpC",
        "outputId": "6f9349cd-2dd6-485e-ff3c-73f8f7f4f377"
      },
      "execution_count": 79,
      "outputs": [
        {
          "output_type": "stream",
          "name": "stdout",
          "text": [
            "Epoch 1/1028\n"
          ]
        },
        {
          "output_type": "stream",
          "name": "stderr",
          "text": [
            "WARNING:tensorflow:Gradients do not exist for variables ['tf_bert_model_1/bert/pooler/dense/kernel:0', 'tf_bert_model_1/bert/pooler/dense/bias:0'] when minimizing the loss. If you're using `model.compile()`, did you forget to provide a `loss` argument?\n",
            "WARNING:tensorflow:Gradients do not exist for variables ['tf_bert_model_1/bert/pooler/dense/kernel:0', 'tf_bert_model_1/bert/pooler/dense/bias:0'] when minimizing the loss. If you're using `model.compile()`, did you forget to provide a `loss` argument?\n",
            "WARNING:tensorflow:Gradients do not exist for variables ['tf_bert_model_1/bert/pooler/dense/kernel:0', 'tf_bert_model_1/bert/pooler/dense/bias:0'] when minimizing the loss. If you're using `model.compile()`, did you forget to provide a `loss` argument?\n",
            "WARNING:tensorflow:Gradients do not exist for variables ['tf_bert_model_1/bert/pooler/dense/kernel:0', 'tf_bert_model_1/bert/pooler/dense/bias:0'] when minimizing the loss. If you're using `model.compile()`, did you forget to provide a `loss` argument?\n"
          ]
        },
        {
          "output_type": "stream",
          "name": "stdout",
          "text": [
            "179/179 [==============================] - 73s 112ms/step - loss: 9839.2344 - mae: 9839.2344 - val_loss: 6286.6846 - val_mae: 6286.6846\n",
            "Epoch 2/1028\n",
            "179/179 [==============================] - 14s 80ms/step - loss: 1293.2661 - mae: 1293.2661 - val_loss: 1720.5264 - val_mae: 1720.5264\n",
            "Epoch 3/1028\n",
            "179/179 [==============================] - 14s 77ms/step - loss: 614.2542 - mae: 614.2542 - val_loss: 2732.6760 - val_mae: 2732.6760\n",
            "Epoch 4/1028\n",
            "179/179 [==============================] - 14s 77ms/step - loss: 474.0382 - mae: 474.0382 - val_loss: 2856.2534 - val_mae: 2856.2534\n",
            "Epoch 5/1028\n",
            "179/179 [==============================] - 14s 78ms/step - loss: 400.2474 - mae: 400.2474 - val_loss: 2457.6462 - val_mae: 2457.6462\n",
            "Epoch 6/1028\n",
            "179/179 [==============================] - 14s 77ms/step - loss: 374.6931 - mae: 374.6931 - val_loss: 2708.5708 - val_mae: 2708.5708\n",
            "Epoch 7/1028\n",
            "179/179 [==============================] - 14s 79ms/step - loss: 353.1197 - mae: 353.1197 - val_loss: 3079.1125 - val_mae: 3079.1125\n",
            "Epoch 8/1028\n",
            "179/179 [==============================] - 14s 79ms/step - loss: 321.9266 - mae: 321.9266 - val_loss: 2375.6467 - val_mae: 2375.6467\n",
            "Epoch 9/1028\n",
            "179/179 [==============================] - 14s 78ms/step - loss: 290.6268 - mae: 290.6268 - val_loss: 2452.0789 - val_mae: 2452.0789\n",
            "Epoch 10/1028\n",
            "179/179 [==============================] - 15s 82ms/step - loss: 300.8091 - mae: 300.8091 - val_loss: 2805.8533 - val_mae: 2805.8533\n",
            "Epoch 11/1028\n",
            "179/179 [==============================] - 14s 80ms/step - loss: 289.9150 - mae: 289.9150 - val_loss: 2634.1174 - val_mae: 2634.1174\n",
            "Epoch 12/1028\n",
            "179/179 [==============================] - 15s 81ms/step - loss: 265.2646 - mae: 265.2646 - val_loss: 2227.0684 - val_mae: 2227.0684\n"
          ]
        }
      ]
    },
    {
      "cell_type": "code",
      "source": [
        "model_history = pd.DataFrame(training_3.history)\n",
        "model_history['epoch'] = training_3.epoch\n",
        "\n",
        "fig, ax = plt.subplots(2,1, figsize=(10,4))\n",
        "num_epochs = model_history.shape[0]\n",
        "num_epochs = model_history.shape[0]\n",
        "\n",
        "ax[0].plot(np.arange(0, num_epochs), model_history[\"mae\"], \n",
        "        label=\"training mae\")\n",
        "ax[1].plot(np.arange(0, num_epochs), model_history[\"val_mae\"], \n",
        "        label=\"testing mae\")\n",
        "\n",
        "\n",
        "\n",
        "ax[0].set_ylabel('training_mae')\n",
        "ax[0].set_xlabel('epochs')\n",
        "ax[1].set_ylabel('testing_mae')\n",
        "ax[1].set_xlabel('epochs')\n",
        "ax[0].legend()\n",
        "ax[1].legend()\n",
        "\n",
        "plt.tight_layout()\n",
        "plt.show()"
      ],
      "metadata": {
        "colab": {
          "base_uri": "https://localhost:8080/",
          "height": 355
        },
        "id": "k8PTn9fDgdgk",
        "outputId": "b2256172-a7f7-40cb-fb8e-4a5feeb6e2ad"
      },
      "execution_count": 80,
      "outputs": [
        {
          "output_type": "display_data",
          "data": {
            "text/plain": [
              "<Figure size 1000x400 with 2 Axes>"
            ],
            "image/png": "[encoded data removed]"
          },
          "metadata": {}
        }
      ]
    },
    {
      "cell_type": "code",
      "source": [
        "## fine-tuning\n",
        "x = layers.GlobalAveragePooling1D()(bert_out[0])\n",
        "x = layers.Dense(1024, activation=\"relu\")(x)\n",
        "x = layers.Dense(1024, activation=\"relu\")(x)\n",
        "x = layers.Dense(1024, activation=\"relu\")(x)\n",
        "x = layers.Dense(1024, activation=\"relu\")(x)\n",
        "x = layers.Dense(512, activation=\"relu\")(x)\n",
        "x = layers.Dense(512, activation=\"relu\")(x)\n",
        "x = layers.Dense(512, activation=\"relu\")(x)\n",
        "x = layers.Dense(256, activation=\"relu\")(x)\n",
        "x = layers.Dense(256, activation=\"relu\")(x)\n",
        "x = layers.Dense(256, activation=\"relu\")(x)\n",
        "y_out = layers.Dense(1)(x)\n",
        "\n",
        "## compile\n",
        "model_1 = models.Model([ price_data], y_out)\n",
        "\n",
        "model_1.compile(loss=keras.losses.mae,\n",
        "                    optimizer=keras.optimizers.Adam(learning_rate = 0.00001), \n",
        "                    metrics=['mae'])\n",
        "\n",
        "## train\n",
        "training_4 = model_1.fit(x_train, y_train, batch_size= 8, epochs=1028, shuffle=True,callbacks=callbacks, verbose=1,validation_split = 0.1)\n"
      ],
      "metadata": {
        "colab": {
          "base_uri": "https://localhost:8080/"
        },
        "id": "Cl51TGW8hbXn",
        "outputId": "33e0bc71-07e2-4929-bba1-43a6a7d1b1d8"
      },
      "execution_count": 81,
      "outputs": [
        {
          "output_type": "stream",
          "name": "stdout",
          "text": [
            "Epoch 1/1028\n"
          ]
        },
        {
          "output_type": "stream",
          "name": "stderr",
          "text": [
            "WARNING:tensorflow:Gradients do not exist for variables ['tf_bert_model_1/bert/pooler/dense/kernel:0', 'tf_bert_model_1/bert/pooler/dense/bias:0'] when minimizing the loss. If you're using `model.compile()`, did you forget to provide a `loss` argument?\n",
            "WARNING:tensorflow:Gradients do not exist for variables ['tf_bert_model_1/bert/pooler/dense/kernel:0', 'tf_bert_model_1/bert/pooler/dense/bias:0'] when minimizing the loss. If you're using `model.compile()`, did you forget to provide a `loss` argument?\n",
            "WARNING:tensorflow:Gradients do not exist for variables ['tf_bert_model_1/bert/pooler/dense/kernel:0', 'tf_bert_model_1/bert/pooler/dense/bias:0'] when minimizing the loss. If you're using `model.compile()`, did you forget to provide a `loss` argument?\n",
            "WARNING:tensorflow:Gradients do not exist for variables ['tf_bert_model_1/bert/pooler/dense/kernel:0', 'tf_bert_model_1/bert/pooler/dense/bias:0'] when minimizing the loss. If you're using `model.compile()`, did you forget to provide a `loss` argument?\n"
          ]
        },
        {
          "output_type": "stream",
          "name": "stdout",
          "text": [
            "179/179 [==============================] - 77s 113ms/step - loss: 11867.8428 - mae: 11867.8428 - val_loss: 16087.2422 - val_mae: 16087.2422\n",
            "Epoch 2/1028\n",
            "179/179 [==============================] - 15s 82ms/step - loss: 3824.8606 - mae: 3824.8606 - val_loss: 3425.9111 - val_mae: 3425.9111\n",
            "Epoch 3/1028\n",
            "179/179 [==============================] - 15s 82ms/step - loss: 621.7322 - mae: 621.7322 - val_loss: 2760.4690 - val_mae: 2760.4690\n",
            "Epoch 4/1028\n",
            "179/179 [==============================] - 16s 89ms/step - loss: 446.5757 - mae: 446.5757 - val_loss: 2311.5137 - val_mae: 2311.5137\n",
            "Epoch 5/1028\n",
            "179/179 [==============================] - 14s 80ms/step - loss: 397.2358 - mae: 397.2358 - val_loss: 3411.1738 - val_mae: 3411.1738\n",
            "Epoch 6/1028\n",
            "179/179 [==============================] - 14s 81ms/step - loss: 359.4657 - mae: 359.4657 - val_loss: 2976.3628 - val_mae: 2976.3628\n",
            "Epoch 7/1028\n",
            "179/179 [==============================] - 14s 79ms/step - loss: 322.3867 - mae: 322.3867 - val_loss: 3119.0308 - val_mae: 3119.0308\n",
            "Epoch 8/1028\n",
            "179/179 [==============================] - 14s 80ms/step - loss: 289.5929 - mae: 289.5929 - val_loss: 3056.5466 - val_mae: 3056.5466\n",
            "Epoch 9/1028\n",
            "179/179 [==============================] - 15s 83ms/step - loss: 279.2965 - mae: 279.2965 - val_loss: 2836.1042 - val_mae: 2836.1042\n",
            "Epoch 10/1028\n",
            "179/179 [==============================] - 15s 81ms/step - loss: 257.6088 - mae: 257.6088 - val_loss: 2914.4976 - val_mae: 2914.4976\n",
            "Epoch 11/1028\n",
            "179/179 [==============================] - 15s 84ms/step - loss: 241.6991 - mae: 241.6991 - val_loss: 3007.3042 - val_mae: 3007.3042\n",
            "Epoch 12/1028\n",
            "179/179 [==============================] - 14s 79ms/step - loss: 248.4713 - mae: 248.4713 - val_loss: 2943.1555 - val_mae: 2943.1555\n",
            "Epoch 13/1028\n",
            "179/179 [==============================] - 14s 78ms/step - loss: 239.9589 - mae: 239.9589 - val_loss: 2607.9084 - val_mae: 2607.9084\n",
            "Epoch 14/1028\n",
            "179/179 [==============================] - 14s 80ms/step - loss: 234.9784 - mae: 234.9784 - val_loss: 2751.9968 - val_mae: 2751.9968\n"
          ]
        }
      ]
    },
    {
      "cell_type": "code",
      "source": [
        "model_history = pd.DataFrame(training_4.history)\n",
        "model_history['epoch'] = training_4.epoch\n",
        "\n",
        "fig, ax = plt.subplots(2,1, figsize=(10,4))\n",
        "num_epochs = model_history.shape[0]\n",
        "num_epochs = model_history.shape[0]\n",
        "\n",
        "ax[0].plot(np.arange(0, num_epochs), model_history[\"mae\"], \n",
        "        label=\"training mae\")\n",
        "ax[1].plot(np.arange(0, num_epochs), model_history[\"val_mae\"], \n",
        "        label=\"testing mae\")\n",
        "\n",
        "\n",
        "\n",
        "ax[0].set_ylabel('training_mae')\n",
        "ax[0].set_xlabel('epochs')\n",
        "ax[1].set_ylabel('testing_mae')\n",
        "ax[1].set_xlabel('epochs')\n",
        "ax[0].legend()\n",
        "ax[1].legend()\n",
        "\n",
        "plt.tight_layout()\n",
        "plt.show()"
      ],
      "metadata": {
        "colab": {
          "base_uri": "https://localhost:8080/",
          "height": 355
        },
        "id": "1ili7TDyhvtC",
        "outputId": "268118ab-4266-4f77-dca9-f22a93e883e4"
      },
      "execution_count": 82,
      "outputs": [
        {
          "output_type": "display_data",
          "data": {
            "text/plain": [
              "<Figure size 1000x400 with 2 Axes>"
            ],
            "image/png": "[encoded data removed]"
          },
          "metadata": {}
        }
      ]
    },
    {
      "cell_type": "code",
      "source": [
        "## fine-tuning\n",
        "x = layers.GlobalAveragePooling1D()(bert_out[0])\n",
        "x = layers.Dense(512, activation=\"relu\")(x)\n",
        "x = layers.Dense(512, activation=\"relu\")(x)\n",
        "x = layers.Dense(512, activation=\"relu\")(x)\n",
        "x = layers.Dense(512, activation=\"relu\")(x)\n",
        "x = layers.Dense(512, activation=\"relu\")(x)\n",
        "x = layers.Dense(512, activation=\"relu\")(x)\n",
        "x = layers.Dense(512, activation=\"relu\")(x)\n",
        "x = layers.Dense(256, activation=\"relu\")(x)\n",
        "x = layers.Dense(256, activation=\"relu\")(x)\n",
        "x = layers.Dense(256, activation=\"relu\")(x)\n",
        "y_out = layers.Dense(1)(x)\n",
        "\n",
        "## compile\n",
        "model_1 = models.Model([ price_data], y_out)\n",
        "\n",
        "model_1.compile(loss=keras.losses.mae,\n",
        "                    optimizer=keras.optimizers.Adam(learning_rate = 0.00001), \n",
        "                    metrics=['mae'])\n",
        "\n",
        "## train\n",
        "training_5 = model_1.fit(x_train, y_train, batch_size= 8, epochs=1028, shuffle=True,callbacks=callbacks, verbose=1,validation_split = 0.1)\n"
      ],
      "metadata": {
        "colab": {
          "base_uri": "https://localhost:8080/"
        },
        "id": "yUVIgBDSi6wT",
        "outputId": "20047b93-1718-4e99-e377-3a0c6facea27"
      },
      "execution_count": 83,
      "outputs": [
        {
          "output_type": "stream",
          "name": "stdout",
          "text": [
            "Epoch 1/1028\n"
          ]
        },
        {
          "output_type": "stream",
          "name": "stderr",
          "text": [
            "WARNING:tensorflow:Gradients do not exist for variables ['tf_bert_model_1/bert/pooler/dense/kernel:0', 'tf_bert_model_1/bert/pooler/dense/bias:0'] when minimizing the loss. If you're using `model.compile()`, did you forget to provide a `loss` argument?\n",
            "WARNING:tensorflow:Gradients do not exist for variables ['tf_bert_model_1/bert/pooler/dense/kernel:0', 'tf_bert_model_1/bert/pooler/dense/bias:0'] when minimizing the loss. If you're using `model.compile()`, did you forget to provide a `loss` argument?\n",
            "WARNING:tensorflow:Gradients do not exist for variables ['tf_bert_model_1/bert/pooler/dense/kernel:0', 'tf_bert_model_1/bert/pooler/dense/bias:0'] when minimizing the loss. If you're using `model.compile()`, did you forget to provide a `loss` argument?\n",
            "WARNING:tensorflow:Gradients do not exist for variables ['tf_bert_model_1/bert/pooler/dense/kernel:0', 'tf_bert_model_1/bert/pooler/dense/bias:0'] when minimizing the loss. If you're using `model.compile()`, did you forget to provide a `loss` argument?\n"
          ]
        },
        {
          "output_type": "stream",
          "name": "stdout",
          "text": [
            "179/179 [==============================] - 75s 116ms/step - loss: 11935.6934 - mae: 11935.6934 - val_loss: 16727.6816 - val_mae: 16727.6816\n",
            "Epoch 2/1028\n",
            "179/179 [==============================] - 15s 84ms/step - loss: 6765.5723 - mae: 6765.5723 - val_loss: 2943.5354 - val_mae: 2943.5354\n",
            "Epoch 3/1028\n",
            "179/179 [==============================] - 15s 84ms/step - loss: 561.3390 - mae: 561.3390 - val_loss: 2290.1929 - val_mae: 2290.1929\n",
            "Epoch 4/1028\n",
            "179/179 [==============================] - 14s 79ms/step - loss: 396.3141 - mae: 396.3141 - val_loss: 3133.3850 - val_mae: 3133.3850\n",
            "Epoch 5/1028\n",
            "179/179 [==============================] - 15s 85ms/step - loss: 353.3479 - mae: 353.3479 - val_loss: 2926.8076 - val_mae: 2926.8076\n",
            "Epoch 6/1028\n",
            "179/179 [==============================] - 16s 90ms/step - loss: 332.8286 - mae: 332.8286 - val_loss: 2777.8997 - val_mae: 2777.8997\n",
            "Epoch 7/1028\n",
            "179/179 [==============================] - 15s 82ms/step - loss: 299.8783 - mae: 299.8783 - val_loss: 3194.9490 - val_mae: 3194.9490\n",
            "Epoch 8/1028\n",
            "179/179 [==============================] - 14s 81ms/step - loss: 263.3227 - mae: 263.3227 - val_loss: 2984.4985 - val_mae: 2984.4985\n",
            "Epoch 9/1028\n",
            "179/179 [==============================] - 14s 80ms/step - loss: 265.7934 - mae: 265.7934 - val_loss: 2974.4797 - val_mae: 2974.4797\n",
            "Epoch 10/1028\n",
            "179/179 [==============================] - 14s 80ms/step - loss: 245.6694 - mae: 245.6694 - val_loss: 2739.1296 - val_mae: 2739.1296\n",
            "Epoch 11/1028\n",
            "179/179 [==============================] - 14s 79ms/step - loss: 248.2941 - mae: 248.2941 - val_loss: 3179.2039 - val_mae: 3179.2039\n",
            "Epoch 12/1028\n",
            "179/179 [==============================] - 14s 81ms/step - loss: 264.1887 - mae: 264.1887 - val_loss: 3219.7571 - val_mae: 3219.7571\n",
            "Epoch 13/1028\n",
            "179/179 [==============================] - 15s 83ms/step - loss: 238.6335 - mae: 238.6335 - val_loss: 2952.7827 - val_mae: 2952.7827\n"
          ]
        }
      ]
    },
    {
      "cell_type": "code",
      "source": [
        "model_history = pd.DataFrame(training_5.history)\n",
        "model_history['epoch'] = training_5.epoch\n",
        "\n",
        "fig, ax = plt.subplots(2,1, figsize=(10,4))\n",
        "num_epochs = model_history.shape[0]\n",
        "num_epochs = model_history.shape[0]\n",
        "\n",
        "ax[0].plot(np.arange(0, num_epochs), model_history[\"mae\"], \n",
        "        label=\"training mae\")\n",
        "ax[1].plot(np.arange(0, num_epochs), model_history[\"val_mae\"], \n",
        "        label=\"testing mae\")\n",
        "\n",
        "\n",
        "\n",
        "ax[0].set_ylabel('training_mae')\n",
        "ax[0].set_xlabel('epochs')\n",
        "ax[1].set_ylabel('testing_mae')\n",
        "ax[1].set_xlabel('epochs')\n",
        "ax[0].legend()\n",
        "ax[1].legend()\n",
        "\n",
        "plt.tight_layout()\n",
        "plt.show()"
      ],
      "metadata": {
        "colab": {
          "base_uri": "https://localhost:8080/",
          "height": 355
        },
        "id": "Ne96-i2ejmaJ",
        "outputId": "38b95e44-9fba-4c7d-d02a-266ba0bfa367"
      },
      "execution_count": 84,
      "outputs": [
        {
          "output_type": "display_data",
          "data": {
            "text/plain": [
              "<Figure size 1000x400 with 2 Axes>"
            ],
            "image/png": "[encoded data removed]"
          },
          "metadata": {}
        }
      ]
    },
    {
      "cell_type": "code",
      "source": [
        "## fine-tuning\n",
        "x = layers.GlobalAveragePooling1D()(bert_out[0])\n",
        "x = layers.Dense(512, activation=\"relu\")(x)\n",
        "x = layers.Dense(512, activation=\"relu\")(x)\n",
        "x = layers.Dense(512, activation=\"relu\")(x)\n",
        "x = layers.Dense(512, activation=\"relu\")(x)\n",
        "x = layers.Dense(512, activation=\"relu\")(x)\n",
        "x = layers.Dense(512, activation=\"relu\")(x)\n",
        "x = layers.Dense(512, activation=\"relu\")(x)\n",
        "y_out = layers.Dense(1)(x)\n",
        "\n",
        "## compile\n",
        "model_1 = models.Model([ price_data], y_out)\n",
        "\n",
        "model_1.compile(loss=keras.losses.mae,\n",
        "                    optimizer=keras.optimizers.Adam(learning_rate = 0.00001), \n",
        "                    metrics=['mae'])\n",
        "\n",
        "## train\n",
        "training_6 = model_1.fit(x_train, y_train, batch_size= 16, epochs=1028, shuffle=True,callbacks=callbacks, verbose=1,validation_split = 0.1)\n"
      ],
      "metadata": {
        "colab": {
          "base_uri": "https://localhost:8080/"
        },
        "id": "kB2UqFA4lXjJ",
        "outputId": "79c270c3-dba4-4f1a-d5d5-e3cd8541d0c7"
      },
      "execution_count": 85,
      "outputs": [
        {
          "output_type": "stream",
          "name": "stdout",
          "text": [
            "Epoch 1/1028\n"
          ]
        },
        {
          "output_type": "stream",
          "name": "stderr",
          "text": [
            "WARNING:tensorflow:Gradients do not exist for variables ['tf_bert_model_1/bert/pooler/dense/kernel:0', 'tf_bert_model_1/bert/pooler/dense/bias:0'] when minimizing the loss. If you're using `model.compile()`, did you forget to provide a `loss` argument?\n",
            "WARNING:tensorflow:Gradients do not exist for variables ['tf_bert_model_1/bert/pooler/dense/kernel:0', 'tf_bert_model_1/bert/pooler/dense/bias:0'] when minimizing the loss. If you're using `model.compile()`, did you forget to provide a `loss` argument?\n",
            "WARNING:tensorflow:Gradients do not exist for variables ['tf_bert_model_1/bert/pooler/dense/kernel:0', 'tf_bert_model_1/bert/pooler/dense/bias:0'] when minimizing the loss. If you're using `model.compile()`, did you forget to provide a `loss` argument?\n",
            "WARNING:tensorflow:Gradients do not exist for variables ['tf_bert_model_1/bert/pooler/dense/kernel:0', 'tf_bert_model_1/bert/pooler/dense/bias:0'] when minimizing the loss. If you're using `model.compile()`, did you forget to provide a `loss` argument?\n"
          ]
        },
        {
          "output_type": "stream",
          "name": "stdout",
          "text": [
            "90/90 [==============================] - 70s 172ms/step - loss: 11962.1055 - mae: 11962.1055 - val_loss: 16914.7441 - val_mae: 16914.7441\n",
            "Epoch 2/1028\n",
            "90/90 [==============================] - 7s 81ms/step - loss: 11912.3965 - mae: 11912.3965 - val_loss: 16781.2402 - val_mae: 16781.2402\n",
            "Epoch 3/1028\n",
            "90/90 [==============================] - 9s 96ms/step - loss: 11416.2266 - mae: 11416.2266 - val_loss: 15496.7275 - val_mae: 15496.7275\n",
            "Epoch 4/1028\n",
            "90/90 [==============================] - 8s 94ms/step - loss: 7403.9883 - mae: 7403.9883 - val_loss: 6326.7866 - val_mae: 6326.7866\n",
            "Epoch 5/1028\n",
            "90/90 [==============================] - 7s 81ms/step - loss: 1510.9879 - mae: 1510.9879 - val_loss: 3040.1746 - val_mae: 3040.1746\n",
            "Epoch 6/1028\n",
            "90/90 [==============================] - 8s 88ms/step - loss: 431.6885 - mae: 431.6885 - val_loss: 3439.7920 - val_mae: 3439.7920\n",
            "Epoch 7/1028\n",
            "90/90 [==============================] - 7s 77ms/step - loss: 327.1863 - mae: 327.1863 - val_loss: 3044.6611 - val_mae: 3044.6611\n",
            "Epoch 8/1028\n",
            "90/90 [==============================] - 8s 91ms/step - loss: 321.5059 - mae: 321.5059 - val_loss: 3198.7949 - val_mae: 3198.7949\n",
            "Epoch 9/1028\n",
            "90/90 [==============================] - 7s 81ms/step - loss: 284.8048 - mae: 284.8048 - val_loss: 3337.7808 - val_mae: 3337.7808\n",
            "Epoch 10/1028\n",
            "90/90 [==============================] - 8s 83ms/step - loss: 251.6108 - mae: 251.6108 - val_loss: 3380.0173 - val_mae: 3380.0173\n",
            "Epoch 11/1028\n",
            "90/90 [==============================] - 8s 90ms/step - loss: 252.3873 - mae: 252.3873 - val_loss: 3340.4536 - val_mae: 3340.4536\n",
            "Epoch 12/1028\n",
            "90/90 [==============================] - 7s 76ms/step - loss: 244.4297 - mae: 244.4297 - val_loss: 3562.1997 - val_mae: 3562.1997\n",
            "Epoch 13/1028\n",
            "90/90 [==============================] - 8s 93ms/step - loss: 232.3928 - mae: 232.3928 - val_loss: 3246.7637 - val_mae: 3246.7637\n",
            "Epoch 14/1028\n",
            "90/90 [==============================] - 7s 77ms/step - loss: 230.6730 - mae: 230.6730 - val_loss: 3279.2019 - val_mae: 3279.2019\n",
            "Epoch 15/1028\n",
            "90/90 [==============================] - 8s 92ms/step - loss: 212.9076 - mae: 212.9076 - val_loss: 3363.5923 - val_mae: 3363.5923\n"
          ]
        }
      ]
    },
    {
      "cell_type": "code",
      "source": [
        "model_history = pd.DataFrame(training_6.history)\n",
        "model_history['epoch'] = training_6.epoch\n",
        "\n",
        "fig, ax = plt.subplots(2,1, figsize=(10,4))\n",
        "num_epochs = model_history.shape[0]\n",
        "num_epochs = model_history.shape[0]\n",
        "\n",
        "ax[0].plot(np.arange(0, num_epochs), model_history[\"mae\"], \n",
        "        label=\"training mae\")\n",
        "ax[1].plot(np.arange(0, num_epochs), model_history[\"val_mae\"], \n",
        "        label=\"testing mae\")\n",
        "\n",
        "\n",
        "\n",
        "ax[0].set_ylabel('training_mae')\n",
        "ax[0].set_xlabel('epochs')\n",
        "ax[1].set_ylabel('testing_mae')\n",
        "ax[1].set_xlabel('epochs')\n",
        "ax[0].legend()\n",
        "ax[1].legend()\n",
        "\n",
        "plt.tight_layout()\n",
        "plt.show()"
      ],
      "metadata": {
        "colab": {
          "base_uri": "https://localhost:8080/",
          "height": 355
        },
        "id": "ggqb-WNbmOSA",
        "outputId": "dfd41a46-de98-4e86-abee-18a239c8cec1"
      },
      "execution_count": 86,
      "outputs": [
        {
          "output_type": "display_data",
          "data": {
            "text/plain": [
              "<Figure size 1000x400 with 2 Axes>"
            ],
            "image/png": "[encoded data removed]"
          },
          "metadata": {}
        }
      ]
    },
    {
      "cell_type": "code",
      "source": [],
      "metadata": {
        "id": "Qz4yCCT4nwuQ"
      },
      "execution_count": null,
      "outputs": []
    }
  ],
  "metadata": {
    "accelerator": "GPU",
    "colab": {
      "provenance": []
    },
    "gpuClass": "standard",
    "kernelspec": {
      "display_name": "Python 3",
      "name": "python3"
    },
    "language_info": {
      "name": "python"
    }
  },
  "nbformat": 4,
  "nbformat_minor": 0
}